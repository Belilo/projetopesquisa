{
 "cells": [
  {
   "cell_type": "code",
   "execution_count": 1,
   "id": "151cb364",
   "metadata": {},
   "outputs": [],
   "source": [
    "from pyspark.sql import SparkSession\n",
    "from pyspark.sql.functions import *\n",
    "from pyspark.sql.types import *"
   ]
  },
  {
   "cell_type": "code",
   "execution_count": 2,
   "id": "c08d9f92",
   "metadata": {},
   "outputs": [],
   "source": [
    "spark = (\n",
    "    SparkSession.builder\n",
    "    .master('local')\n",
    "    .appName('pySparkMLib1')\n",
    "    .getOrCreate()\n",
    ")"
   ]
  },
  {
   "cell_type": "code",
   "execution_count": null,
   "id": "5c59c0d1",
   "metadata": {},
   "outputs": [],
   "source": []
  },
  {
   "cell_type": "markdown",
   "id": "55bc22ff",
   "metadata": {},
   "source": [
    "**CENARIO 9**\n"
   ]
  },
  {
   "cell_type": "code",
   "execution_count": 3,
   "id": "5ece5bc3",
   "metadata": {},
   "outputs": [],
   "source": [
    "df = spark.read.csv('C:/Users/Belilo/Desktop/SparkJupyter/datasets/ctu13/cenario9.csv', header=True,inferSchema=True)"
   ]
  },
  {
   "cell_type": "code",
   "execution_count": 4,
   "id": "6b478b18",
   "metadata": {},
   "outputs": [
    {
     "name": "stdout",
     "output_type": "stream",
     "text": [
      "+----------+---+-----+-----+-----+-----+-----------+----+----+-------+---------+---------+\n",
      "|     Label|Dir|Sport|Proto|Dport|State|        Dur|sTos|dTos|TotPkts| TotBytes| SrcBytes|\n",
      "+----------+---+-----+-----+-----+-----+-----------+----+----+-------+---------+---------+\n",
      "|Background|<->| 6881|  udp| 6881|  CON|1823.088379|   0|   0|      2|      214|      107|\n",
      "|Background|<->| 6881|  udp| 6881|  CON|2005.431641|   0|   0|      2|      214|      107|\n",
      "|Background|<->| 6881|  udp| 6881|  CON|1973.646729|   0|   0|      2|      214|      107|\n",
      "|Background|<->|35248|  udp|16200|  CON|3599.997803|   0|   0| 409227|207547419|182657149|\n",
      "|Background|<?>|   80|  tcp|59067|RA_PA|2059.387451|   0|   0| 224275|266462578|  3199174|\n",
      "+----------+---+-----+-----+-----+-----+-----------+----+----+-------+---------+---------+\n",
      "only showing top 5 rows\n",
      "\n"
     ]
    }
   ],
   "source": [
    "df.show(5)"
   ]
  },
  {
   "cell_type": "markdown",
   "id": "bf4c6e05",
   "metadata": {},
   "source": [
    "**Contar todos dados do datset**\n"
   ]
  },
  {
   "cell_type": "code",
   "execution_count": 5,
   "id": "a0317a8b",
   "metadata": {},
   "outputs": [
    {
     "data": {
      "text/plain": [
       "2087508"
      ]
     },
     "execution_count": 5,
     "metadata": {},
     "output_type": "execute_result"
    }
   ],
   "source": [
    "df.count()"
   ]
  },
  {
   "cell_type": "markdown",
   "id": "411064c9",
   "metadata": {},
   "source": [
    "**Verificar os tipos de dados em cada coluna**"
   ]
  },
  {
   "cell_type": "code",
   "execution_count": 6,
   "id": "1099b483",
   "metadata": {},
   "outputs": [
    {
     "name": "stdout",
     "output_type": "stream",
     "text": [
      "root\n",
      " |-- Label: string (nullable = true)\n",
      " |-- Dir: string (nullable = true)\n",
      " |-- Sport: string (nullable = true)\n",
      " |-- Proto: string (nullable = true)\n",
      " |-- Dport: string (nullable = true)\n",
      " |-- State: string (nullable = true)\n",
      " |-- Dur: double (nullable = true)\n",
      " |-- sTos: integer (nullable = true)\n",
      " |-- dTos: integer (nullable = true)\n",
      " |-- TotPkts: integer (nullable = true)\n",
      " |-- TotBytes: long (nullable = true)\n",
      " |-- SrcBytes: integer (nullable = true)\n",
      "\n"
     ]
    }
   ],
   "source": [
    "df.printSchema()"
   ]
  },
  {
   "cell_type": "markdown",
   "id": "0bfd1c55",
   "metadata": {},
   "source": [
    "**Remonear colunas**"
   ]
  },
  {
   "cell_type": "code",
   "execution_count": 7,
   "id": "312b900a",
   "metadata": {},
   "outputs": [
    {
     "name": "stdout",
     "output_type": "stream",
     "text": [
      "+----------+-------+-----------+---------+------------+-------+-----------+----+----+-------+---------+---------+\n",
      "|    Rotulo|Direcao|PortaOrigem|protocolo|PortaDestino| Estado|    Duracao|sTos|dTos|TotPkts| TotBytes| SrcBytes|\n",
      "+----------+-------+-----------+---------+------------+-------+-----------+----+----+-------+---------+---------+\n",
      "|Background|    <->|       6881|      udp|        6881|    CON|1823.088379|   0|   0|      2|      214|      107|\n",
      "|Background|    <->|       6881|      udp|        6881|    CON|2005.431641|   0|   0|      2|      214|      107|\n",
      "|Background|    <->|       6881|      udp|        6881|    CON|1973.646729|   0|   0|      2|      214|      107|\n",
      "|Background|    <->|      35248|      udp|       16200|    CON|3599.997803|   0|   0| 409227|207547419|182657149|\n",
      "|Background|    <?>|         80|      tcp|       59067|  RA_PA|2059.387451|   0|   0| 224275|266462578|  3199174|\n",
      "|Background|    <?>|       1176|      tcp|          80| FPA_FA|  14.998429|   0|   0|      8|     3145|     2965|\n",
      "|Background|    <?>|      54145|      tcp|       56950| RPA_PA|  28.917549|   0|   0|   6021|  5651087|   138137|\n",
      "|Background|    <?>|         80|      tcp|       59066|  RA_PA| 2021.74353|   0|   0| 238990|284140836|  3402844|\n",
      "|Background|    <?>|      51505|      tcp|         443|FPA_RPA|   0.001742|   0|   0|      5|      606|      455|\n",
      "|Background|    <?>|         80|      tcp|       64872| RA_FPA| 196.055695|   0|   0|   6175|  5977561|   134036|\n",
      "|Background|    <?>|      61743|      tcp|          80| FPA_FA|3397.838379|   0|   0|  94719| 60612292| 58357732|\n",
      "|Background|     ->|       6881|      tcp|        3926|   S_RA|   1.204515|   0|   0|      6|      366|      186|\n",
      "|Background|    <->|      13363|      udp|       40335|    CON| 686.772705|   0|   0|      4|      268|      148|\n",
      "|Background|    <?>|      59231|      tcp|        8000|  PA_RA| 1837.57312|   0|   0|  57734| 47847900| 46268478|\n",
      "|Background|    <->|      28448|      udp|       13363|    CON|2653.336182|   0|   0|     11|     1401|      308|\n",
      "|    Normal|    <?>|        443|      tcp|       46402|FPA_FPA|1752.578735|   0|   0|    467|   274517|    79210|\n",
      "|Background|    <?>|      60573|      tcp|        3389| PA_RPA|2636.988525|   0|   0|  15456|  3996551|  3541110|\n",
      "|Background|    <?>|      60041|      tcp|          80| FPA_FA|   0.895833|   0|   0|     80|    75241|    73261|\n",
      "|Background|    <?>|      50417|      tcp|       51932| FA_FPA| 696.409363|   0|   0| 355172|362113748|  8220210|\n",
      "|Background|    <?>|         80|      tcp|       59064|  RA_PA|2021.699219|   0|   0| 169507|200895322|  2432572|\n",
      "+----------+-------+-----------+---------+------------+-------+-----------+----+----+-------+---------+---------+\n",
      "only showing top 20 rows\n",
      "\n"
     ]
    }
   ],
   "source": [
    "df = df.withColumnRenamed('Proto','protocolo').withColumnRenamed('Sport','PortaOrigem').withColumnRenamed('Dir','Direcao')\\\n",
    "        .withColumnRenamed('Dport','PortaDestino').withColumnRenamed('State','Estado').withColumnRenamed('Dur','Duracao')\\\n",
    "        .withColumnRenamed('Label',\"Rotulo\")\n",
    "df.show()"
   ]
  },
  {
   "cell_type": "markdown",
   "id": "16f0683b",
   "metadata": {},
   "source": [
    "**Mostrar Nomes das Colunas**"
   ]
  },
  {
   "cell_type": "code",
   "execution_count": 8,
   "id": "5f27d563",
   "metadata": {},
   "outputs": [
    {
     "data": {
      "text/plain": [
       "['Rotulo',\n",
       " 'Direcao',\n",
       " 'PortaOrigem',\n",
       " 'protocolo',\n",
       " 'PortaDestino',\n",
       " 'Estado',\n",
       " 'Duracao',\n",
       " 'sTos',\n",
       " 'dTos',\n",
       " 'TotPkts',\n",
       " 'TotBytes',\n",
       " 'SrcBytes']"
      ]
     },
     "execution_count": 8,
     "metadata": {},
     "output_type": "execute_result"
    }
   ],
   "source": [
    "df.columns"
   ]
  },
  {
   "cell_type": "code",
   "execution_count": 9,
   "id": "e2bb1f04",
   "metadata": {},
   "outputs": [
    {
     "name": "stdout",
     "output_type": "stream",
     "text": [
      "+----------+-------+-----------+---------+------------+-------+-----------+----+----+-------+---------+---------+\n",
      "|    Rotulo|Direcao|PortaOrigem|protocolo|PortaDestino| Estado|    Duracao|sTos|dTos|TotPkts| TotBytes| SrcBytes|\n",
      "+----------+-------+-----------+---------+------------+-------+-----------+----+----+-------+---------+---------+\n",
      "|Background|    <->|       6881|      udp|        6881|    CON|1823.088379|   0|   0|      2|      214|      107|\n",
      "|Background|    <->|       6881|      udp|        6881|    CON|2005.431641|   0|   0|      2|      214|      107|\n",
      "|Background|    <->|       6881|      udp|        6881|    CON|1973.646729|   0|   0|      2|      214|      107|\n",
      "|Background|    <->|      35248|      udp|       16200|    CON|3599.997803|   0|   0| 409227|207547419|182657149|\n",
      "|Background|    <?>|         80|      tcp|       59067|  RA_PA|2059.387451|   0|   0| 224275|266462578|  3199174|\n",
      "|Background|    <?>|       1176|      tcp|          80| FPA_FA|  14.998429|   0|   0|      8|     3145|     2965|\n",
      "|Background|    <?>|      54145|      tcp|       56950| RPA_PA|  28.917549|   0|   0|   6021|  5651087|   138137|\n",
      "|Background|    <?>|         80|      tcp|       59066|  RA_PA| 2021.74353|   0|   0| 238990|284140836|  3402844|\n",
      "|Background|    <?>|      51505|      tcp|         443|FPA_RPA|   0.001742|   0|   0|      5|      606|      455|\n",
      "|Background|    <?>|         80|      tcp|       64872| RA_FPA| 196.055695|   0|   0|   6175|  5977561|   134036|\n",
      "|Background|    <?>|      61743|      tcp|          80| FPA_FA|3397.838379|   0|   0|  94719| 60612292| 58357732|\n",
      "|Background|     ->|       6881|      tcp|        3926|   S_RA|   1.204515|   0|   0|      6|      366|      186|\n",
      "|Background|    <->|      13363|      udp|       40335|    CON| 686.772705|   0|   0|      4|      268|      148|\n",
      "|Background|    <?>|      59231|      tcp|        8000|  PA_RA| 1837.57312|   0|   0|  57734| 47847900| 46268478|\n",
      "|Background|    <->|      28448|      udp|       13363|    CON|2653.336182|   0|   0|     11|     1401|      308|\n",
      "|    Normal|    <?>|        443|      tcp|       46402|FPA_FPA|1752.578735|   0|   0|    467|   274517|    79210|\n",
      "|Background|    <?>|      60573|      tcp|        3389| PA_RPA|2636.988525|   0|   0|  15456|  3996551|  3541110|\n",
      "|Background|    <?>|      60041|      tcp|          80| FPA_FA|   0.895833|   0|   0|     80|    75241|    73261|\n",
      "|Background|    <?>|      50417|      tcp|       51932| FA_FPA| 696.409363|   0|   0| 355172|362113748|  8220210|\n",
      "|Background|    <?>|         80|      tcp|       59064|  RA_PA|2021.699219|   0|   0| 169507|200895322|  2432572|\n",
      "+----------+-------+-----------+---------+------------+-------+-----------+----+----+-------+---------+---------+\n",
      "only showing top 20 rows\n",
      "\n"
     ]
    }
   ],
   "source": [
    "df.show()\n",
    "               "
   ]
  },
  {
   "cell_type": "markdown",
   "id": "e6d598ee",
   "metadata": {},
   "source": [
    "**Selecionar Colunas, atribuir ao novo datafreme**"
   ]
  },
  {
   "cell_type": "code",
   "execution_count": 10,
   "id": "0b110f0c",
   "metadata": {},
   "outputs": [
    {
     "name": "stdout",
     "output_type": "stream",
     "text": [
      "+-----------+---------+-----------+-------+------------+------+----+----+-------+---------+---------+----------+\n",
      "|    Duracao|protocolo|PortaOrigem|Direcao|PortaDestino|Estado|sTos|dTos|TotPkts| TotBytes| SrcBytes|    Rotulo|\n",
      "+-----------+---------+-----------+-------+------------+------+----+----+-------+---------+---------+----------+\n",
      "|1823.088379|      udp|       6881|    <->|        6881|   CON|   0|   0|      2|      214|      107|Background|\n",
      "|2005.431641|      udp|       6881|    <->|        6881|   CON|   0|   0|      2|      214|      107|Background|\n",
      "|1973.646729|      udp|       6881|    <->|        6881|   CON|   0|   0|      2|      214|      107|Background|\n",
      "|3599.997803|      udp|      35248|    <->|       16200|   CON|   0|   0| 409227|207547419|182657149|Background|\n",
      "|2059.387451|      tcp|         80|    <?>|       59067| RA_PA|   0|   0| 224275|266462578|  3199174|Background|\n",
      "+-----------+---------+-----------+-------+------------+------+----+----+-------+---------+---------+----------+\n",
      "only showing top 5 rows\n",
      "\n"
     ]
    }
   ],
   "source": [
    "df = df.select(col('Duracao'),col('protocolo'),col('PortaOrigem'),col('Direcao'),col('PortaDestino'),col('Estado')\\\n",
    "         ,col('sTos'),col('dTos'),col('TotPkts'),col('TotBytes'),col('SrcBytes'),col('Rotulo'))\n",
    "\n",
    "df.show(5)"
   ]
  },
  {
   "cell_type": "markdown",
   "id": "03abb73d",
   "metadata": {},
   "source": [
    "**Alterar o tipo de dados**"
   ]
  },
  {
   "cell_type": "code",
   "execution_count": 11,
   "id": "78a3fc1d",
   "metadata": {},
   "outputs": [
    {
     "name": "stdout",
     "output_type": "stream",
     "text": [
      "root\n",
      " |-- Duracao: double (nullable = true)\n",
      " |-- protocolo: string (nullable = true)\n",
      " |-- PortaOrigem: string (nullable = true)\n",
      " |-- Direcao: string (nullable = true)\n",
      " |-- PortaDestino: string (nullable = true)\n",
      " |-- Estado: string (nullable = true)\n",
      " |-- sTos: integer (nullable = true)\n",
      " |-- dTos: integer (nullable = true)\n",
      " |-- TotPkts: integer (nullable = true)\n",
      " |-- TotBytes: long (nullable = true)\n",
      " |-- SrcBytes: integer (nullable = true)\n",
      " |-- Rotulo: string (nullable = true)\n",
      "\n"
     ]
    }
   ],
   "source": [
    "df.printSchema()"
   ]
  },
  {
   "cell_type": "code",
   "execution_count": 12,
   "id": "89c5cc3a",
   "metadata": {},
   "outputs": [
    {
     "name": "stdout",
     "output_type": "stream",
     "text": [
      "root\n",
      " |-- Duracao: double (nullable = true)\n",
      " |-- protocolo: string (nullable = true)\n",
      " |-- PortaOrigem: integer (nullable = true)\n",
      " |-- Direcao: string (nullable = true)\n",
      " |-- PortaDestino: integer (nullable = true)\n",
      " |-- Estado: string (nullable = true)\n",
      " |-- sTos: integer (nullable = true)\n",
      " |-- dTos: integer (nullable = true)\n",
      " |-- TotPkts: integer (nullable = true)\n",
      " |-- TotBytes: long (nullable = true)\n",
      " |-- SrcBytes: integer (nullable = true)\n",
      " |-- Rotulo: string (nullable = true)\n",
      "\n"
     ]
    }
   ],
   "source": [
    "df = df.withColumn('PortaOrigem',col('Portaorigem').cast(IntegerType()))\\\n",
    "        .withColumn('PortaDestino',col('PortaDestino').cast(IntegerType()))\n",
    "\n",
    "df.printSchema()"
   ]
  },
  {
   "cell_type": "markdown",
   "id": "ddcd6458",
   "metadata": {},
   "source": [
    "**Tratando Valores Nulos / dados faltante**"
   ]
  },
  {
   "cell_type": "markdown",
   "id": "02297bc9",
   "metadata": {},
   "source": [
    "**Verificar Valores Nulos em cada coluna {Nome_coluna : Qtd de Valores nulos}**"
   ]
  },
  {
   "cell_type": "code",
   "execution_count": 13,
   "id": "16c7ad2b",
   "metadata": {},
   "outputs": [
    {
     "name": "stdout",
     "output_type": "stream",
     "text": [
      "Duracao  :  0\n",
      "protocolo  :  0\n",
      "PortaOrigem  :  24470\n",
      "Direcao  :  0\n",
      "PortaDestino  :  23862\n",
      "Estado  :  3\n",
      "sTos  :  9031\n",
      "dTos  :  173232\n",
      "TotPkts  :  0\n",
      "TotBytes  :  0\n",
      "SrcBytes  :  0\n",
      "Rotulo  :  0\n"
     ]
    }
   ],
   "source": [
    "for coluna in df.columns:\n",
    "    print(coluna,\" : \", df.filter(df[coluna].isNull()).count())"
   ]
  },
  {
   "cell_type": "markdown",
   "id": "410d052f",
   "metadata": {},
   "source": [
    "**Preencher Valores nulos apartir do calculo da moda (a frequencia dos dados)**"
   ]
  },
  {
   "cell_type": "code",
   "execution_count": 14,
   "id": "3a2def7e",
   "metadata": {},
   "outputs": [
    {
     "name": "stdout",
     "output_type": "stream",
     "text": [
      "Nome da coluna : O valor com maior frequencia (Moda)\n",
      "PortaOrigem  :  53\n",
      "PortaDestino  :  13363\n",
      "Estado  :  CON\n",
      "sTos  :  0\n",
      "dTos  :  0\n"
     ]
    }
   ],
   "source": [
    "# A impressao dos valores eh so para mostrar qual eh o valor mais frequente (a moda) em cda uma das colunas que posuem dados nulos\n",
    "print(\"Nome da coluna : O valor com maior frequencia (Moda)\")\n",
    "\n",
    "for coluna in df.columns:\n",
    "    if df.filter(df[coluna].isNull()).count() != 0:\n",
    "        count_mode_val = df.groupBy(coluna).count().filter(col(coluna).isNotNull())\\\n",
    "                            .agg(max(\"count\")).collect()[0][0]\n",
    "        mode_val = df.groupBy(coluna).count().filter(col(coluna).isNotNull())\\\n",
    "                            .filter(col(\"count\") == count_mode_val).select(coluna).collect()[0][0]\n",
    "\n",
    "        print(coluna,\" : \", mode_val)\n",
    "        df=df.na.fill(mode_val,subset=[coluna])"
   ]
  },
  {
   "cell_type": "code",
   "execution_count": null,
   "id": "c5fccb3a",
   "metadata": {},
   "outputs": [],
   "source": []
  },
  {
   "cell_type": "markdown",
   "id": "02bc5a50",
   "metadata": {},
   "source": [
    "**Verificando Novamente Valores nulos**"
   ]
  },
  {
   "cell_type": "code",
   "execution_count": 15,
   "id": "fa71f6da",
   "metadata": {},
   "outputs": [
    {
     "name": "stdout",
     "output_type": "stream",
     "text": [
      "Duracao  :  0\n",
      "protocolo  :  0\n",
      "PortaOrigem  :  0\n",
      "Direcao  :  0\n",
      "PortaDestino  :  0\n",
      "Estado  :  0\n",
      "sTos  :  0\n",
      "dTos  :  0\n",
      "TotPkts  :  0\n",
      "TotBytes  :  0\n",
      "SrcBytes  :  0\n",
      "Rotulo  :  0\n"
     ]
    }
   ],
   "source": [
    "for coluna in df.columns:\n",
    "    print(coluna,\" : \", df.filter(df[coluna].isNull()).count())"
   ]
  },
  {
   "cell_type": "markdown",
   "id": "bc8f7827",
   "metadata": {},
   "source": [
    "**Mostrar o dataset**"
   ]
  },
  {
   "cell_type": "code",
   "execution_count": 16,
   "id": "e2b99068",
   "metadata": {},
   "outputs": [
    {
     "name": "stdout",
     "output_type": "stream",
     "text": [
      "+-----------+---------+-----------+-------+------------+------+----+----+-------+---------+---------+----------+\n",
      "|    Duracao|protocolo|PortaOrigem|Direcao|PortaDestino|Estado|sTos|dTos|TotPkts| TotBytes| SrcBytes|    Rotulo|\n",
      "+-----------+---------+-----------+-------+------------+------+----+----+-------+---------+---------+----------+\n",
      "|1823.088379|      udp|       6881|    <->|        6881|   CON|   0|   0|      2|      214|      107|Background|\n",
      "|2005.431641|      udp|       6881|    <->|        6881|   CON|   0|   0|      2|      214|      107|Background|\n",
      "|1973.646729|      udp|       6881|    <->|        6881|   CON|   0|   0|      2|      214|      107|Background|\n",
      "|3599.997803|      udp|      35248|    <->|       16200|   CON|   0|   0| 409227|207547419|182657149|Background|\n",
      "|2059.387451|      tcp|         80|    <?>|       59067| RA_PA|   0|   0| 224275|266462578|  3199174|Background|\n",
      "+-----------+---------+-----------+-------+------------+------+----+----+-------+---------+---------+----------+\n",
      "only showing top 5 rows\n",
      "\n"
     ]
    }
   ],
   "source": [
    "df.show(5)"
   ]
  },
  {
   "cell_type": "markdown",
   "id": "221a5520",
   "metadata": {},
   "source": [
    "**Tratando dados ruidosos** "
   ]
  },
  {
   "cell_type": "code",
   "execution_count": null,
   "id": "0ca62026",
   "metadata": {},
   "outputs": [],
   "source": []
  },
  {
   "cell_type": "code",
   "execution_count": 17,
   "id": "3948d1d9",
   "metadata": {},
   "outputs": [
    {
     "name": "stdout",
     "output_type": "stream",
     "text": [
      "+--------+\n",
      "|count(1)|\n",
      "+--------+\n",
      "| 2087508|\n",
      "+--------+\n",
      "\n"
     ]
    }
   ],
   "source": [
    "df.createOrReplaceTempView(\"tabela\")\n",
    "spark.sql(\"SELECT count(*) from tabela\").show()"
   ]
  },
  {
   "cell_type": "code",
   "execution_count": 18,
   "id": "0e20dcce",
   "metadata": {},
   "outputs": [
    {
     "name": "stdout",
     "output_type": "stream",
     "text": [
      "+-----------+\n",
      "|    Duracao|\n",
      "+-----------+\n",
      "|   6.940647|\n",
      "|2934.411621|\n",
      "| 148.079163|\n",
      "|3542.162598|\n",
      "|2935.303711|\n",
      "|    3.71E-4|\n",
      "|  16.357012|\n",
      "|3599.464844|\n",
      "|     7.5E-4|\n",
      "|   0.130722|\n",
      "| 191.274338|\n",
      "|   0.336695|\n",
      "|   2.020986|\n",
      "|3176.427979|\n",
      "|   0.327814|\n",
      "|3049.628174|\n",
      "|   0.114029|\n",
      "|  19.934669|\n",
      "|  18.339931|\n",
      "|3006.249512|\n",
      "+-----------+\n",
      "only showing top 20 rows\n",
      "\n"
     ]
    }
   ],
   "source": [
    "spark.sql(\"SELECT DISTINCT Duracao from tabela\").show()"
   ]
  },
  {
   "cell_type": "code",
   "execution_count": 19,
   "id": "820dbb09",
   "metadata": {},
   "outputs": [
    {
     "name": "stdout",
     "output_type": "stream",
     "text": [
      "+-----------+\n",
      "|PortaOrigem|\n",
      "+-----------+\n",
      "|      40574|\n",
      "|       1238|\n",
      "|      20683|\n",
      "|      64590|\n",
      "|      31261|\n",
      "|      34061|\n",
      "|      23364|\n",
      "|      27974|\n",
      "|      49855|\n",
      "|      43527|\n",
      "|      33569|\n",
      "|      16574|\n",
      "|       1342|\n",
      "|      20497|\n",
      "|      46465|\n",
      "|      26755|\n",
      "|      47501|\n",
      "|      11748|\n",
      "|      20735|\n",
      "|      38723|\n",
      "+-----------+\n",
      "only showing top 20 rows\n",
      "\n"
     ]
    }
   ],
   "source": [
    "spark.sql(\"SELECT DISTINCT PortaOrigem from tabela\").show()"
   ]
  },
  {
   "cell_type": "code",
   "execution_count": 20,
   "id": "d1a8bda7",
   "metadata": {},
   "outputs": [
    {
     "name": "stdout",
     "output_type": "stream",
     "text": [
      "+-------+\n",
      "|Direcao|\n",
      "+-------+\n",
      "|who    |\n",
      "|<?     |\n",
      "|?>     |\n",
      "|<->    |\n",
      "|<?>    |\n",
      "|<-     |\n",
      "|->     |\n",
      "+-------+\n",
      "\n"
     ]
    }
   ],
   "source": [
    "spark.sql(\"SELECT DISTINCT Direcao from tabela\").show(truncate=False)"
   ]
  },
  {
   "cell_type": "markdown",
   "id": "527986c0",
   "metadata": {},
   "source": [
    "**O Uso da funcao do replace do spark foi necessaria para tratar dados ruidosos na coluna Direcao**\n",
    "Tratandosse de dados bidirecional, a coluna deveria ter direcao para duplo sentido, sentido esquedo e direito"
   ]
  },
  {
   "cell_type": "code",
   "execution_count": 21,
   "id": "697398ce",
   "metadata": {},
   "outputs": [],
   "source": [
    "# Funcao replace do sql\n",
    "\n",
    "df=spark.sql(\"SELECT Duracao, protocolo, PortaOrigem, REPLACE(Direcao, '?', '-') as Direcao, PortaDestino, Estado\\\n",
    "            ,sTos, dTos, TotPkts, TotBytes, SrcBytes, Rotulo  from tabela\")"
   ]
  },
  {
   "cell_type": "code",
   "execution_count": 22,
   "id": "eb1ec96d",
   "metadata": {},
   "outputs": [
    {
     "name": "stdout",
     "output_type": "stream",
     "text": [
      "+-------+\n",
      "|Direcao|\n",
      "+-------+\n",
      "|who    |\n",
      "|<->    |\n",
      "|<-     |\n",
      "|->     |\n",
      "+-------+\n",
      "\n"
     ]
    }
   ],
   "source": [
    "df.createOrReplaceTempView(\"tabela\")\n",
    "spark.sql(\"SELECT DISTINCT Direcao from tabela\").show(truncate=False)"
   ]
  },
  {
   "cell_type": "code",
   "execution_count": 23,
   "id": "a76cb3ed",
   "metadata": {},
   "outputs": [
    {
     "name": "stdout",
     "output_type": "stream",
     "text": [
      "+-------+\n",
      "|Direcao|\n",
      "+-------+\n",
      "|<->    |\n",
      "|<-     |\n",
      "|->     |\n",
      "+-------+\n",
      "\n"
     ]
    }
   ],
   "source": [
    "df=df.withColumn('Direcao', regexp_replace('Direcao','who','<->'))\n",
    "df.createOrReplaceTempView(\"tabela\")\n",
    "spark.sql(\"SELECT DISTINCT Direcao from tabela\").show(truncate=False)"
   ]
  },
  {
   "cell_type": "markdown",
   "id": "d97ff71c",
   "metadata": {},
   "source": [
    "**Elimanar linhas repetidas - a funcao distintct() e a dropDuplicates() (quando nao passado nenhum parametro funcianam da mesma maneira, eliminanam linhas repetidas e retornam um novo datafreme)**"
   ]
  },
  {
   "cell_type": "code",
   "execution_count": 24,
   "id": "9059823e",
   "metadata": {},
   "outputs": [
    {
     "data": {
      "text/plain": [
       "2087508"
      ]
     },
     "execution_count": 24,
     "metadata": {},
     "output_type": "execute_result"
    }
   ],
   "source": [
    "#Total de linhas antes da eliminacao de linhas duplicadas \n",
    "df.count()"
   ]
  },
  {
   "cell_type": "code",
   "execution_count": 25,
   "id": "54d1c6ce",
   "metadata": {},
   "outputs": [
    {
     "name": "stdout",
     "output_type": "stream",
     "text": [
      "+----------+\n",
      "|sum(count)|\n",
      "+----------+\n",
      "|     60234|\n",
      "+----------+\n",
      "\n"
     ]
    }
   ],
   "source": [
    "# Contar linhas duplicadas \n",
    "\n",
    "df.groupBy(df.columns).count().where(col('count') > 1).select(sum('count')).show()"
   ]
  },
  {
   "cell_type": "code",
   "execution_count": 26,
   "id": "2d3496dc",
   "metadata": {},
   "outputs": [
    {
     "data": {
      "text/plain": [
       "2040586"
      ]
     },
     "execution_count": 26,
     "metadata": {},
     "output_type": "execute_result"
    }
   ],
   "source": [
    "# Total de linhas depois de eliminacao de duplicatas\n",
    "df.dropDuplicates().count()"
   ]
  },
  {
   "cell_type": "code",
   "execution_count": 27,
   "id": "7eac8923",
   "metadata": {},
   "outputs": [],
   "source": [
    "df=df.dropDuplicates()"
   ]
  },
  {
   "cell_type": "code",
   "execution_count": 28,
   "id": "d43c59d3",
   "metadata": {},
   "outputs": [
    {
     "data": {
      "text/plain": [
       "2040586"
      ]
     },
     "execution_count": 28,
     "metadata": {},
     "output_type": "execute_result"
    }
   ],
   "source": [
    "df.count()"
   ]
  },
  {
   "cell_type": "code",
   "execution_count": null,
   "id": "4d397336",
   "metadata": {},
   "outputs": [],
   "source": []
  },
  {
   "cell_type": "markdown",
   "id": "8760cba6",
   "metadata": {},
   "source": [
    "**Continuacao de preprocessamento - Etapa de Transformacao de dados e Mineracao (aplicando algoritmos de machine learning)**"
   ]
  },
  {
   "cell_type": "markdown",
   "id": "278a7382",
   "metadata": {},
   "source": [
    "Creando indice para para as variaveis categoricas "
   ]
  },
  {
   "cell_type": "code",
   "execution_count": 29,
   "id": "27f09ba0",
   "metadata": {},
   "outputs": [],
   "source": [
    "from pyspark.ml.feature import StringIndexer, OneHotEncoder\n"
   ]
  },
  {
   "cell_type": "code",
   "execution_count": 30,
   "id": "879ad6c3",
   "metadata": {},
   "outputs": [
    {
     "name": "stdout",
     "output_type": "stream",
     "text": [
      "root\n",
      " |-- Duracao: double (nullable = true)\n",
      " |-- protocolo: string (nullable = true)\n",
      " |-- PortaOrigem: integer (nullable = true)\n",
      " |-- Direcao: string (nullable = true)\n",
      " |-- PortaDestino: integer (nullable = true)\n",
      " |-- Estado: string (nullable = false)\n",
      " |-- sTos: integer (nullable = true)\n",
      " |-- dTos: integer (nullable = true)\n",
      " |-- TotPkts: integer (nullable = true)\n",
      " |-- TotBytes: long (nullable = true)\n",
      " |-- SrcBytes: integer (nullable = true)\n",
      " |-- Rotulo: string (nullable = true)\n",
      "\n"
     ]
    }
   ],
   "source": [
    "df.printSchema()"
   ]
  },
  {
   "cell_type": "code",
   "execution_count": 31,
   "id": "80f77dde",
   "metadata": {},
   "outputs": [],
   "source": [
    "# criar o objeto da classe StringIndexer com especificacao da coluna de entrada e saída\n",
    "SI_protocolo = StringIndexer(inputCol='protocolo',outputCol='protocolo_index')\n",
    "SI_direcao = StringIndexer(inputCol='Direcao',outputCol='Direcao_index')\n",
    "SI_estado = StringIndexer(inputCol='Estado',outputCol='Estado_index')\n",
    "SI_rotulo = StringIndexer(inputCol='Rotulo',outputCol='rotulo_index')"
   ]
  },
  {
   "cell_type": "code",
   "execution_count": 32,
   "id": "b19d7cad",
   "metadata": {},
   "outputs": [],
   "source": [
    "# Aplicando a funcao transfoma(df), nos objectos criados \n",
    "df = SI_protocolo.fit(df).transform(df)\n",
    "df = SI_direcao.fit(df).transform(df)\n",
    "df = SI_estado.fit(df).transform(df)\n",
    "df = SI_rotulo.fit(df).transform(df)"
   ]
  },
  {
   "cell_type": "code",
   "execution_count": 33,
   "id": "d5bcd648",
   "metadata": {},
   "outputs": [
    {
     "name": "stdout",
     "output_type": "stream",
     "text": [
      "+-----------+---------+-----------+-------+------------+------+----+----+-------+--------+--------+----------+---------------+-------------+------------+------------+\n",
      "|    Duracao|protocolo|PortaOrigem|Direcao|PortaDestino|Estado|sTos|dTos|TotPkts|TotBytes|SrcBytes|    Rotulo|protocolo_index|Direcao_index|Estado_index|rotulo_index|\n",
      "+-----------+---------+-----------+-------+------------+------+----+----+-------+--------+--------+----------+---------------+-------------+------------+------------+\n",
      "|  28.917549|      tcp|      54145|    <->|       56950|RPA_PA|   0|   0|   6021| 5651087|  138137|Background|            1.0|          0.0|        50.0|         0.0|\n",
      "|2476.756836|      tcp|      21456|    <->|         443|FPA_PA|   0|   0|    551|   60009|   32677|Background|            1.0|          0.0|        89.0|         0.0|\n",
      "|1830.480713|      udp|      12114|    <->|       18720|   CON|   0|   0|      6|     407|     223|Background|            0.0|          0.0|         0.0|         0.0|\n",
      "| 2207.80249|      udp|      17214|     ->|       12114|   INT|   0|   0|     28|    2128|    2128|Background|            0.0|          1.0|         2.0|         0.0|\n",
      "|2173.965576|      udp|      62713|    <->|       12114|   CON|   0|   0|     16|    1074|     579|Background|            0.0|          0.0|         0.0|         0.0|\n",
      "+-----------+---------+-----------+-------+------------+------+----+----+-------+--------+--------+----------+---------------+-------------+------------+------------+\n",
      "only showing top 5 rows\n",
      "\n"
     ]
    }
   ],
   "source": [
    "df.show(5)"
   ]
  },
  {
   "cell_type": "code",
   "execution_count": 34,
   "id": "03cbf2fc",
   "metadata": {},
   "outputs": [
    {
     "data": {
      "text/plain": [
       "['Duracao',\n",
       " 'protocolo',\n",
       " 'PortaOrigem',\n",
       " 'Direcao',\n",
       " 'PortaDestino',\n",
       " 'Estado',\n",
       " 'sTos',\n",
       " 'dTos',\n",
       " 'TotPkts',\n",
       " 'TotBytes',\n",
       " 'SrcBytes',\n",
       " 'Rotulo',\n",
       " 'protocolo_index',\n",
       " 'Direcao_index',\n",
       " 'Estado_index',\n",
       " 'rotulo_index']"
      ]
     },
     "execution_count": 34,
     "metadata": {},
     "output_type": "execute_result"
    }
   ],
   "source": [
    "df.columns"
   ]
  },
  {
   "cell_type": "code",
   "execution_count": 35,
   "id": "0b1298b4",
   "metadata": {},
   "outputs": [
    {
     "name": "stdout",
     "output_type": "stream",
     "text": [
      "+-----------+---------+---------------+-----------+-------+-------------+------------+------+------------+----+----+-------+--------+--------+----------+------------+\n",
      "|    Duracao|protocolo|protocolo_index|PortaOrigem|Direcao|Direcao_index|PortaDestino|Estado|Estado_index|sTos|dTos|TotPkts|TotBytes|SrcBytes|    Rotulo|rotulo_index|\n",
      "+-----------+---------+---------------+-----------+-------+-------------+------------+------+------------+----+----+-------+--------+--------+----------+------------+\n",
      "|  28.917549|      tcp|            1.0|      54145|    <->|          0.0|       56950|RPA_PA|        50.0|   0|   0|   6021| 5651087|  138137|Background|         0.0|\n",
      "|2476.756836|      tcp|            1.0|      21456|    <->|          0.0|         443|FPA_PA|        89.0|   0|   0|    551|   60009|   32677|Background|         0.0|\n",
      "|1830.480713|      udp|            0.0|      12114|    <->|          0.0|       18720|   CON|         0.0|   0|   0|      6|     407|     223|Background|         0.0|\n",
      "+-----------+---------+---------------+-----------+-------+-------------+------------+------+------------+----+----+-------+--------+--------+----------+------------+\n",
      "only showing top 3 rows\n",
      "\n"
     ]
    }
   ],
   "source": [
    "# Verificando  os dados na tabela apos a aplicacao da transform(df)\n",
    "df.select('Duracao','protocolo','protocolo_index','PortaOrigem','Direcao','Direcao_index','PortaDestino'\\\n",
    "          ,'Estado','Estado_index','sTos','dTos','TotPkts','TotBytes','SrcBytes','Rotulo','rotulo_index').show(3)\n",
    "     "
   ]
  },
  {
   "cell_type": "markdown",
   "id": "f5513356",
   "metadata": {},
   "source": [
    "Alternativo"
   ]
  },
  {
   "cell_type": "code",
   "execution_count": 36,
   "id": "8a9812fb",
   "metadata": {},
   "outputs": [],
   "source": [
    "\n",
    "# create object and specify input and output column\n",
    "OHE = OneHotEncoder(inputCols=['Duracao', 'protocolo_index','PortaOrigem','Direcao_index','PortaDestino','Estado_index','sTos','dTos','TotPkts','TotBytes','SrcBytes','rotulo_index'], outputCols=['Duracao_OHE', 'protocolo_index_OHE','PortaOrigem_OHE','Direcao_index_OHE','PortaDestino_OHE','Estado_index_OHE','sTos_OHE','dTos_OHE','TotPkts_OHE','TotBytes_OHE','SrcBytes_OHE','rotulo_index_OHE'])\n",
    "\n",
    "# transform the data\n",
    "#df = OHE.fit.transform(df)\n",
    "\n",
    "# view and transform the data\n",
    "#df.select('Duracao_OHE', 'protocolo_index_OHE','PortaOrigem_OHE','Direcao_index_OHE','PortaDestino_OHE','Estado_index_OHE').show(truncate=False)\n",
    "\n",
    "     "
   ]
  },
  {
   "cell_type": "markdown",
   "id": "4fe91ac5",
   "metadata": {},
   "source": [
    "**VectorAssembler criado ira conter a transformacao de dados usadas para testar algoritmos**\n"
   ]
  },
  {
   "cell_type": "code",
   "execution_count": 39,
   "id": "78169f2c",
   "metadata": {},
   "outputs": [],
   "source": [
    "from pyspark.ml.feature import VectorAssembler"
   ]
  },
  {
   "cell_type": "code",
   "execution_count": 40,
   "id": "89d0dd7b",
   "metadata": {},
   "outputs": [],
   "source": [
    "# specify the input and output columns of the vector assembler\n",
    "assembler = VectorAssembler(inputCols=['Duracao', 'protocolo_index','PortaOrigem','Direcao_index','PortaDestino'\\\n",
    "                                       ,'Estado_index','sTos','dTos','TotPkts','TotBytes'\\\n",
    "                                       ,'SrcBytes'], outputCol='features')"
   ]
  },
  {
   "cell_type": "code",
   "execution_count": 42,
   "id": "e822b63a",
   "metadata": {},
   "outputs": [
    {
     "name": "stdout",
     "output_type": "stream",
     "text": [
      "+--------------------------------------------------------------------------+------------+\n",
      "|features                                                                  |rotulo_index|\n",
      "+--------------------------------------------------------------------------+------------+\n",
      "|[28.917549,1.0,54145.0,0.0,56950.0,50.0,0.0,0.0,6021.0,5651087.0,138137.0]|0.0         |\n",
      "|[2476.756836,1.0,21456.0,0.0,443.0,89.0,0.0,0.0,551.0,60009.0,32677.0]    |0.0         |\n",
      "|(11,[0,2,4,8,9,10],[1830.480713,12114.0,18720.0,6.0,407.0,223.0])         |0.0         |\n",
      "|[2207.80249,0.0,17214.0,1.0,12114.0,2.0,0.0,0.0,28.0,2128.0,2128.0]       |0.0         |\n",
      "|(11,[0,2,4,8,9,10],[2173.965576,62713.0,12114.0,16.0,1074.0,579.0])       |0.0         |\n",
      "|[200.340805,1.0,443.0,0.0,46020.0,105.0,0.0,0.0,17.0,1220.0,594.0]        |0.0         |\n",
      "|(11,[0,2,4,8,9,10],[478.096497,12114.0,44120.0,28.0,1890.0,1036.0])       |0.0         |\n",
      "|(11,[0,2,4,8,9,10],[2.67E-4,53.0,49669.0,2.0,324.0,76.0])                 |0.0         |\n",
      "|[3559.997314,1.0,60822.0,0.0,80.0,11.0,0.0,0.0,144.0,27312.0,14928.0]     |0.0         |\n",
      "|[13.685439,1.0,80.0,1.0,45728.0,6.0,0.0,0.0,7.0,478.0,272.0]              |0.0         |\n",
      "|[14.577169,1.0,443.0,0.0,37873.0,108.0,0.0,0.0,9.0,692.0,264.0]           |2.0         |\n",
      "|(11,[0,2,4,8,9,10],[1.86E-4,53.0,39086.0,2.0,214.0,81.0])                 |0.0         |\n",
      "|(11,[0,2,4,8,9,10],[3014.450684,12114.0,8222.0,6.0,401.0,217.0])          |0.0         |\n",
      "|(11,[0,2,4,8,9,10],[21.318783,12114.0,16832.0,4.0,839.0,529.0])           |0.0         |\n",
      "|[3143.592041,2.0,53.0,1.0,13363.0,12.0,0.0,0.0,20.0,2060.0,2060.0]        |0.0         |\n",
      "|[3577.165283,1.0,2587.0,0.0,13363.0,11.0,0.0,0.0,1593.0,150026.0,57955.0] |0.0         |\n",
      "|[2.13E-4,1.0,6881.0,1.0,24183.0,5.0,0.0,0.0,2.0,126.0,66.0]               |0.0         |\n",
      "|(11,[0,2,4,8,9,10],[2138.59668,35031.0,12114.0,14.0,980.0,560.0])         |0.0         |\n",
      "|(11,[0,2,4,8,9,10],[1.9E-4,53.0,46534.0,2.0,222.0,68.0])                  |0.0         |\n",
      "|[18.352331,1.0,80.0,1.0,1891.0,6.0,0.0,0.0,7.0,486.0,276.0]               |0.0         |\n",
      "+--------------------------------------------------------------------------+------------+\n",
      "only showing top 20 rows\n",
      "\n"
     ]
    }
   ],
   "source": [
    "\n",
    "# datafreme para testar modelos\n",
    "dfmodel = assembler.transform(df)\n",
    "     \n",
    "\n",
    "# mostrar as colunas do  vector transformado\n",
    "dfmodel.select('features','rotulo_index').show(truncate=False)"
   ]
  },
  {
   "cell_type": "code",
   "execution_count": 43,
   "id": "4b68ad33",
   "metadata": {},
   "outputs": [
    {
     "name": "stdout",
     "output_type": "stream",
     "text": [
      "root\n",
      " |-- atributos: vector (nullable = true)\n",
      " |-- rotulo: double (nullable = false)\n",
      "\n"
     ]
    }
   ],
   "source": [
    "#Datafreme do modelo (Com novos nomes para as variaveis -features e rotulo_index) \n",
    "dfmodelfinal = dfmodel.select(['features','rotulo_index'])\n",
    "dfmodelfinal = dfmodelfinal.withColumnRenamed(\"rotulo_index\",\"rotulo\").withColumnRenamed('features','atributos')\n",
    "dfmodelfinal.printSchema()"
   ]
  },
  {
   "cell_type": "code",
   "execution_count": 44,
   "id": "c99f9472",
   "metadata": {},
   "outputs": [],
   "source": [
    "\n",
    "#Dividr dados para teste e treno (70% treino,30% teste)\n",
    "df_treinamento,df_teste = dfmodelfinal.randomSplit([0.7,0.3])\n",
    "     "
   ]
  },
  {
   "cell_type": "code",
   "execution_count": 45,
   "id": "af5b0017",
   "metadata": {},
   "outputs": [
    {
     "name": "stdout",
     "output_type": "stream",
     "text": [
      "Total para treino:  1429480\n",
      "Total de dados de teste:  611106\n"
     ]
    }
   ],
   "source": [
    "print('Total para treino: ',df_treinamento.count())\n",
    "print('Total de dados de teste: ',df_teste.count())"
   ]
  },
  {
   "cell_type": "code",
   "execution_count": 46,
   "id": "cc158ca2",
   "metadata": {},
   "outputs": [],
   "source": [
    "#Classes para treinamento de modelo na \n",
    "from pyspark.ml.classification import NaiveBayes\n",
    "from pyspark.ml.classification import GBTClassifier\n",
    "from pyspark.ml.classification import RandomForestClassifier\n",
    "from pyspark.ml.classification import DecisionTreeClassifier\n",
    "\n",
    "from pyspark.mllib.evaluation import MulticlassMetrics\n",
    "from pyspark.ml.evaluation import MulticlassClassificationEvaluator"
   ]
  },
  {
   "cell_type": "markdown",
   "id": "d7591e5d",
   "metadata": {},
   "source": [
    "**Regressao Logistica**"
   ]
  },
  {
   "cell_type": "code",
   "execution_count": 47,
   "id": "b716d348",
   "metadata": {},
   "outputs": [],
   "source": [
    "#Create a logistic regression model object\n",
    "from pyspark.ml.classification import LogisticRegression\n",
    "log_reg=LogisticRegression(labelCol='rotulo', featuresCol='atributos', maxIter=50)\n",
    "log_reg_Modelo=log_reg.fit(df_treinamento)\n",
    "\n"
   ]
  },
  {
   "cell_type": "code",
   "execution_count": 48,
   "id": "8dc69abb",
   "metadata": {},
   "outputs": [],
   "source": [
    "#lr_summary=log_reg.summary\n",
    "     \n",
    "\n",
    "#Overall accuracy of the classification model\n",
    "#print(\"Acurace: \",lr_summary.accuracy)\n",
    "     \n",
    "\n",
    "#Area under ROC\n",
    "#print('ROC: ')\n",
    "#lr_summary.areaUnderROC\n",
    "     \n",
    "\n",
    "#Precision of both classes\n",
    "#print('precision: ',lr_summary.precisionByLabel)\n",
    "     \n",
    "\n",
    "\n",
    "#Recall of both classes\n",
    "#print('recal: ',lr_summary.recallByLabel)\n",
    "     \n"
   ]
  },
  {
   "cell_type": "code",
   "execution_count": 49,
   "id": "36c522df",
   "metadata": {},
   "outputs": [],
   "source": [
    "predicao_teste = log_reg_Modelo.transform(df_teste)\n"
   ]
  },
  {
   "cell_type": "code",
   "execution_count": 50,
   "id": "fe9f6f32",
   "metadata": {},
   "outputs": [
    {
     "name": "stdout",
     "output_type": "stream",
     "text": [
      "+--------------------+------+--------------------+--------------------+----------+\n",
      "|           atributos|rotulo|       rawPrediction|         probability|prediction|\n",
      "+--------------------+------+--------------------+--------------------+----------+\n",
      "|(11,[0,2,4,8,9,10...|   0.0|[10.5281544356944...|[0.97663323946268...|       0.0|\n",
      "|(11,[0,2,4,8,9,10...|   0.0|[3.97560099774125...|[0.98546932960167...|       0.0|\n",
      "|(11,[0,2,4,8,9,10...|   0.0|[6.90181061486329...|[0.98233481400460...|       0.0|\n",
      "|(11,[0,2,4,8,9,10...|   0.0|[8.20492469444810...|[0.98046330448648...|       0.0|\n",
      "|(11,[0,2,4,8,9,10...|   0.0|[9.23797833786984...|[0.97884271760250...|       0.0|\n",
      "|(11,[0,2,4,8,9,10...|   0.0|[9.29355639715148...|[0.97875190443190...|       0.0|\n",
      "|(11,[0,2,4,8,9,10...|   0.0|[9.71960527372954...|[0.97804290245102...|       0.0|\n",
      "|(11,[0,2,4,8,9,10...|   0.0|[10.2334890184796...|[0.97715692454106...|       0.0|\n",
      "|(11,[0,2,4,8,9,10...|   0.0|[10.2480730439199...|[0.97713126494073...|       0.0|\n",
      "|(11,[0,2,4,8,9,10...|   0.0|[10.5245074541136...|[0.97663979803226...|       0.0|\n",
      "|(11,[0,2,4,8,9,10...|   0.0|[12.5995396383802...|[0.97260703119454...|       0.0|\n",
      "|(11,[0,2,4,8,9,10...|   0.0|[8.05968517656167...|[0.99983235459519...|       0.0|\n",
      "|(11,[0,2,4,8,9,10...|   0.0|[9.84753166784089...|[0.97782553508676...|       0.0|\n",
      "|(11,[0,2,4,8,9,10...|   0.0|[11.6320904550852...|[0.97456516561140...|       0.0|\n",
      "|(11,[0,2,4,8,9,10...|   0.0|[12.4125754279602...|[0.97299653695240...|       0.0|\n",
      "|(11,[0,2,4,8,9,10...|   0.0|[8.16574760916911...|[0.98052230537660...|       0.0|\n",
      "|(11,[0,2,4,8,9,10...|   0.0|[5.19833797971344...|[0.99860628977154...|       0.0|\n",
      "|(11,[0,2,4,8,9,10...|   1.0|[0.90996796573474...|[0.14651899640783...|       1.0|\n",
      "|(11,[0,2,4,8,9,10...|   0.0|[7.33186982401619...|[0.98173752547701...|       0.0|\n",
      "|(11,[0,2,4,8,9,10...|   0.0|[9.24654108792827...|[0.97882875177865...|       0.0|\n",
      "+--------------------+------+--------------------+--------------------+----------+\n",
      "only showing top 20 rows\n",
      "\n"
     ]
    }
   ],
   "source": [
    "predicao_teste.show()"
   ]
  },
  {
   "cell_type": "code",
   "execution_count": 51,
   "id": "aa18796d",
   "metadata": {},
   "outputs": [],
   "source": [
    "predicaorotulo=predicao_teste.select('rotulo','prediction')"
   ]
  },
  {
   "cell_type": "code",
   "execution_count": 52,
   "id": "d2e85629",
   "metadata": {},
   "outputs": [
    {
     "name": "stdout",
     "output_type": "stream",
     "text": [
      "Acuracia:  0.9430769784620017\n"
     ]
    }
   ],
   "source": [
    "Evaluator = MulticlassClassificationEvaluator(labelCol='rotulo', predictionCol='prediction', metricName='accuracy')\n",
    "acuracia_LR = Evaluator.evaluate(predicaorotulo)\n",
    "\n",
    "print(\"Acuracia: \", acuracia_LR)"
   ]
  },
  {
   "cell_type": "code",
   "execution_count": 53,
   "id": "5a8f30b8",
   "metadata": {},
   "outputs": [
    {
     "name": "stdout",
     "output_type": "stream",
     "text": [
      "Precisao:  0.9623450692778562\n"
     ]
    }
   ],
   "source": [
    "Evaluator = MulticlassClassificationEvaluator(labelCol='rotulo', predictionCol='prediction', metricName='precisionByLabel')\n",
    "precisao_LR = Evaluator.evaluate(predicaorotulo)\n",
    "\n",
    "print(\"Precisao: \", precisao_LR)"
   ]
  },
  {
   "cell_type": "code",
   "execution_count": 54,
   "id": "eba9bfa1",
   "metadata": {},
   "outputs": [
    {
     "name": "stdout",
     "output_type": "stream",
     "text": [
      "Recal:  0.975244460051915\n"
     ]
    }
   ],
   "source": [
    "Evaluator = MulticlassClassificationEvaluator(labelCol='rotulo', predictionCol='prediction', metricName='recallByLabel')\n",
    "recal_LR = Evaluator.evaluate(predicaorotulo)\n",
    "\n",
    "print(\"Recal: \", recal_LR)"
   ]
  },
  {
   "cell_type": "markdown",
   "id": "00306527",
   "metadata": {},
   "source": [
    "**Naive Bayes**"
   ]
  },
  {
   "cell_type": "code",
   "execution_count": 55,
   "id": "208fb9d5",
   "metadata": {},
   "outputs": [],
   "source": [
    "NB= NaiveBayes(labelCol='rotulo',featuresCol='atributos', smoothing=1.0)\n",
    "modeloNB = NB.fit(df_treinamento)"
   ]
  },
  {
   "cell_type": "code",
   "execution_count": 56,
   "id": "e7218677",
   "metadata": {},
   "outputs": [],
   "source": [
    "predicao_testeNB = modeloNB.transform(df_teste)"
   ]
  },
  {
   "cell_type": "code",
   "execution_count": 57,
   "id": "9ca53aaa",
   "metadata": {},
   "outputs": [
    {
     "name": "stdout",
     "output_type": "stream",
     "text": [
      "+--------------------+------+--------------------+--------------------+----------+\n",
      "|           atributos|rotulo|       rawPrediction|         probability|prediction|\n",
      "+--------------------+------+--------------------+--------------------+----------+\n",
      "|(11,[0,2,4,8,9,10...|   0.0|[-49006.603165950...|       [0.0,0.0,1.0]|       2.0|\n",
      "|(11,[0,2,4,8,9,10...|   0.0|[-16903.524856093...|       [0.0,0.0,1.0]|       2.0|\n",
      "|(11,[0,2,4,8,9,10...|   0.0|[-31129.641362864...|       [0.0,0.0,1.0]|       2.0|\n",
      "|(11,[0,2,4,8,9,10...|   0.0|[-37542.953372078...|       [0.0,0.0,1.0]|       2.0|\n",
      "|(11,[0,2,4,8,9,10...|   0.0|[-42640.217433636...|       [0.0,0.0,1.0]|       2.0|\n",
      "|(11,[0,2,4,8,9,10...|   0.0|[-42849.624438119...|       [0.0,0.0,1.0]|       2.0|\n",
      "|(11,[0,2,4,8,9,10...|   0.0|[-44975.779703901...|       [0.0,0.0,1.0]|       2.0|\n",
      "|(11,[0,2,4,8,9,10...|   0.0|[-47510.955183655...|       [0.0,0.0,1.0]|       2.0|\n",
      "|(11,[0,2,4,8,9,10...|   0.0|[-47686.049294214...|       [0.0,0.0,1.0]|       2.0|\n",
      "|(11,[0,2,4,8,9,10...|   0.0|[-48940.967660576...|       [0.0,0.0,1.0]|       2.0|\n",
      "|(11,[0,2,4,8,9,10...|   0.0|[-59118.937105231...|       [0.0,0.0,1.0]|       2.0|\n",
      "|(11,[0,2,4,8,9,10...|   0.0|[-59153.681225427...|       [1.0,0.0,0.0]|       0.0|\n",
      "|(11,[0,2,4,8,9,10...|   0.0|[-45635.453341172...|       [0.0,0.0,1.0]|       2.0|\n",
      "|(11,[0,2,4,8,9,10...|   0.0|[-54383.432183908...|       [0.0,0.0,1.0]|       2.0|\n",
      "|(11,[0,2,4,8,9,10...|   0.0|[-58226.998555661...|       [0.0,0.0,1.0]|       2.0|\n",
      "|(11,[0,2,4,8,9,10...|   0.0|[-37371.467655213...|       [0.0,0.0,1.0]|       2.0|\n",
      "|(11,[0,2,4,8,9,10...|   0.0|[-45103.442319416...|       [0.0,1.0,0.0]|       1.0|\n",
      "|(11,[0,2,4,8,9,10...|   1.0|[-1694.2880486044...|[3.51098449784231...|       2.0|\n",
      "|(11,[0,2,4,8,9,10...|   0.0|[-33210.247927811...|       [0.0,0.0,1.0]|       2.0|\n",
      "|(11,[0,2,4,8,9,10...|   0.0|[-42661.269806129...|       [0.0,0.0,1.0]|       2.0|\n",
      "+--------------------+------+--------------------+--------------------+----------+\n",
      "only showing top 20 rows\n",
      "\n"
     ]
    }
   ],
   "source": [
    "predicao_testeNB.show()"
   ]
  },
  {
   "cell_type": "code",
   "execution_count": 58,
   "id": "e3541fa6",
   "metadata": {},
   "outputs": [],
   "source": [
    "predicaorotuloNB=predicao_testeNB.select('rotulo','prediction')"
   ]
  },
  {
   "cell_type": "code",
   "execution_count": 59,
   "id": "94825377",
   "metadata": {},
   "outputs": [
    {
     "name": "stdout",
     "output_type": "stream",
     "text": [
      "Acuracia:  0.25176319656491675\n"
     ]
    }
   ],
   "source": [
    "Evaluator = MulticlassClassificationEvaluator(labelCol='rotulo', predictionCol='prediction', metricName='accuracy')\n",
    "acuracia_NB = Evaluator.evaluate(predicaorotuloNB)\n",
    "\n",
    "print(\"Acuracia: \", acuracia_NB)"
   ]
  },
  {
   "cell_type": "code",
   "execution_count": 60,
   "id": "4aa820c0",
   "metadata": {},
   "outputs": [
    {
     "name": "stdout",
     "output_type": "stream",
     "text": [
      "Precisao:  0.9623450692778562\n"
     ]
    }
   ],
   "source": [
    "Evaluator = MulticlassClassificationEvaluator(labelCol='rotulo', predictionCol='prediction', metricName='precisionByLabel')\n",
    "precisao_NB = Evaluator.evaluate(predicaorotulo)\n",
    "\n",
    "print(\"Precisao: \", precisao_NB)"
   ]
  },
  {
   "cell_type": "code",
   "execution_count": 61,
   "id": "3f408090",
   "metadata": {},
   "outputs": [
    {
     "name": "stdout",
     "output_type": "stream",
     "text": [
      "Recal:  0.975244460051915\n"
     ]
    }
   ],
   "source": [
    "Evaluator = MulticlassClassificationEvaluator(labelCol='rotulo', predictionCol='prediction', metricName='recallByLabel')\n",
    "recal_NB = Evaluator.evaluate(predicaorotulo)\n",
    "\n",
    "print(\"Recal: \", recal_NB)"
   ]
  },
  {
   "cell_type": "markdown",
   "id": "d91ab480",
   "metadata": {},
   "source": [
    "  **GBT Classifier (Gradient Boost Tree Classifier)**"
   ]
  },
  {
   "cell_type": "code",
   "execution_count": 63,
   "id": "30b3bf8c",
   "metadata": {},
   "outputs": [],
   "source": [
    "GBT_C =GBTClassifier(labelCol='rotulo',featuresCol='atributos')\n"
   ]
  },
  {
   "cell_type": "code",
   "execution_count": null,
   "id": "1fe458ed",
   "metadata": {},
   "outputs": [],
   "source": [
    "modeloGBT = GBT_C.fit(df_treinamento)"
   ]
  },
  {
   "cell_type": "markdown",
   "id": "89741d3c",
   "metadata": {},
   "source": [
    "**Random Forest Classifier**"
   ]
  },
  {
   "cell_type": "code",
   "execution_count": 72,
   "id": "7bbe22bd",
   "metadata": {},
   "outputs": [],
   "source": [
    "rfc = RandomForestClassifier(labelCol='rotulo', featuresCol='atributos')\n"
   ]
  },
  {
   "cell_type": "code",
   "execution_count": null,
   "id": "58fe904f",
   "metadata": {},
   "outputs": [],
   "source": [
    "modeloRFC = rfc.fit(df_treinamento)"
   ]
  },
  {
   "cell_type": "code",
   "execution_count": null,
   "id": "0e04bd08",
   "metadata": {},
   "outputs": [],
   "source": [
    "predicao_testeRFC=modeloRFC.transform(df_teste)"
   ]
  },
  {
   "cell_type": "code",
   "execution_count": null,
   "id": "5aa22042",
   "metadata": {},
   "outputs": [],
   "source": [
    "predicao_testeRFC.show(5)"
   ]
  },
  {
   "cell_type": "code",
   "execution_count": null,
   "id": "9e38cd95",
   "metadata": {},
   "outputs": [],
   "source": []
  },
  {
   "cell_type": "code",
   "execution_count": null,
   "id": "209f9de0",
   "metadata": {},
   "outputs": [],
   "source": []
  },
  {
   "cell_type": "code",
   "execution_count": null,
   "id": "2da2db60",
   "metadata": {},
   "outputs": [],
   "source": []
  },
  {
   "cell_type": "code",
   "execution_count": null,
   "id": "de1ff92f",
   "metadata": {},
   "outputs": [],
   "source": []
  },
  {
   "cell_type": "code",
   "execution_count": null,
   "id": "e9a334b8",
   "metadata": {},
   "outputs": [],
   "source": []
  },
  {
   "cell_type": "code",
   "execution_count": null,
   "id": "2c7d467f",
   "metadata": {},
   "outputs": [],
   "source": []
  },
  {
   "cell_type": "code",
   "execution_count": null,
   "id": "febd27bc",
   "metadata": {},
   "outputs": [],
   "source": []
  },
  {
   "cell_type": "code",
   "execution_count": null,
   "id": "02b90ac5",
   "metadata": {},
   "outputs": [],
   "source": []
  },
  {
   "cell_type": "code",
   "execution_count": null,
   "id": "5fc4106d",
   "metadata": {},
   "outputs": [],
   "source": []
  },
  {
   "cell_type": "code",
   "execution_count": null,
   "id": "5f550927",
   "metadata": {},
   "outputs": [],
   "source": []
  },
  {
   "cell_type": "markdown",
   "id": "eb672014",
   "metadata": {},
   "source": [
    "**CENARIO 10**"
   ]
  },
  {
   "cell_type": "code",
   "execution_count": 43,
   "id": "b09fa681",
   "metadata": {},
   "outputs": [],
   "source": [
    "df = spark.read.csv('C:/Users/Belilo/Desktop/SparkJupyter/datasets/ctu13/cenario10.csv', header=True,inferSchema=True)"
   ]
  },
  {
   "cell_type": "code",
   "execution_count": 44,
   "id": "04779d3c",
   "metadata": {},
   "outputs": [
    {
     "name": "stdout",
     "output_type": "stream",
     "text": [
      "+----------+-----+-----+---+-----+--------+-----------+----+----+-------+--------+--------+\n",
      "|     Label|Proto|Sport|Dir|Dport|   State|        Dur|sTos|dTos|TotPkts|TotBytes|SrcBytes|\n",
      "+----------+-----+-----+---+-----+--------+-----------+----+----+-------+--------+--------+\n",
      "|Background|  udp|60621|<->|63550|     CON| 2752.65625|   0|   0|      3|     435|     290|\n",
      "|Background|  udp|51413|<->|63550|     CON|1849.315552|   0|   0|      3|     417|     272|\n",
      "|Background|  udp|63195|<->|63550|     CON|2091.747314|   0|   0|      2|     290|     145|\n",
      "|Background|  udp|39110|<->|63550|     CON|1535.769409|   0|   0|      2|     290|     145|\n",
      "|Background|  tcp|33426|<?>|25443|FRPA_FPA|   0.002636|   0|   0|      6|     490|     321|\n",
      "+----------+-----+-----+---+-----+--------+-----------+----+----+-------+--------+--------+\n",
      "only showing top 5 rows\n",
      "\n"
     ]
    }
   ],
   "source": [
    "df.show(5)"
   ]
  },
  {
   "cell_type": "markdown",
   "id": "c970052d",
   "metadata": {},
   "source": [
    "**Contar todos dados do datset**\n"
   ]
  },
  {
   "cell_type": "code",
   "execution_count": 45,
   "id": "b5503570",
   "metadata": {},
   "outputs": [
    {
     "data": {
      "text/plain": [
       "1309791"
      ]
     },
     "execution_count": 45,
     "metadata": {},
     "output_type": "execute_result"
    }
   ],
   "source": [
    "df.count()"
   ]
  },
  {
   "cell_type": "markdown",
   "id": "e0e649c3",
   "metadata": {},
   "source": [
    "**Verificar os tipos de dados em cada coluna**"
   ]
  },
  {
   "cell_type": "code",
   "execution_count": 46,
   "id": "c21ec462",
   "metadata": {},
   "outputs": [
    {
     "name": "stdout",
     "output_type": "stream",
     "text": [
      "root\n",
      " |-- Label: string (nullable = true)\n",
      " |-- Proto: string (nullable = true)\n",
      " |-- Sport: string (nullable = true)\n",
      " |-- Dir: string (nullable = true)\n",
      " |-- Dport: string (nullable = true)\n",
      " |-- State: string (nullable = true)\n",
      " |-- Dur: double (nullable = true)\n",
      " |-- sTos: integer (nullable = true)\n",
      " |-- dTos: integer (nullable = true)\n",
      " |-- TotPkts: integer (nullable = true)\n",
      " |-- TotBytes: integer (nullable = true)\n",
      " |-- SrcBytes: integer (nullable = true)\n",
      "\n"
     ]
    }
   ],
   "source": [
    "df.printSchema()"
   ]
  },
  {
   "cell_type": "markdown",
   "id": "28d565f0",
   "metadata": {},
   "source": [
    "**Remonear colunas**"
   ]
  },
  {
   "cell_type": "code",
   "execution_count": 47,
   "id": "3d5543f6",
   "metadata": {},
   "outputs": [
    {
     "name": "stdout",
     "output_type": "stream",
     "text": [
      "+----------+---------+-----------+-------+------------+--------+-----------+----+----+-------+--------+--------+\n",
      "|    Rotulo|protocolo|PortaOrigem|Direcao|PortaDestino|  Estado|    Duracao|sTos|dTos|TotPkts|TotBytes|SrcBytes|\n",
      "+----------+---------+-----------+-------+------------+--------+-----------+----+----+-------+--------+--------+\n",
      "|Background|      udp|      60621|    <->|       63550|     CON| 2752.65625|   0|   0|      3|     435|     290|\n",
      "|Background|      udp|      51413|    <->|       63550|     CON|1849.315552|   0|   0|      3|     417|     272|\n",
      "|Background|      udp|      63195|    <->|       63550|     CON|2091.747314|   0|   0|      2|     290|     145|\n",
      "|Background|      udp|      39110|    <->|       63550|     CON|1535.769409|   0|   0|      2|     290|     145|\n",
      "|Background|      tcp|      33426|    <?>|       25443|FRPA_FPA|   0.002636|   0|   0|      6|     490|     321|\n",
      "|Background|      udp|      41915|    <->|       43087|     CON|   72.43679|   0|   0|  23849|24298138|  509912|\n",
      "|Background|      tcp|      42020|    <?>|         993|   PA_PA|3599.473633|   0|   0|    543|   98018|   33640|\n",
      "|Background|      tcp|      49190|    <?>|          80|   A_FPA|  28.152548|   0|   0|    222|  191281|    6610|\n",
      "|Background|      tcp|      51287|    <?>|       31002| FPA_FPA| 632.001648|   0|   0|  15347| 2542390| 2237911|\n",
      "|Background|      udp|      31002|    <->|       49621|     CON| 628.915222|   0|   0|   9464| 2024974| 2022958|\n",
      "|Background|      udp|      39051|     ->|        1153|     INT|    1.77E-4|   0|null|      1|     145|     145|\n",
      "|Background|     icmp|     0x0303|     ->|      0x8104|     URP|        0.0|   0|null|      1|     173|     173|\n",
      "|Background|      tcp|      53389|    <?>|       48190| RPA_FPA|1315.114136|   0|   0|  59405|24973123|21487780|\n",
      "|Background|      tcp|         80|    <?>|        2774|  FPA_FA|  450.40683|   0|   0|  85347|97405130|96357830|\n",
      "|Background|      tcp|       8000|    <?>|        3978|  PA_FRA| 123.438812|   0|   0|   4238| 4189542| 4104702|\n",
      "|Background|      tcp|       2828|     ->|          80|FPA_FSPA|   0.069355|   0|   0|      7|    1202|     739|\n",
      "|Background|      udp|      31011|    <->|       43087|     CON| 118.675606|   0|   0|   4788| 5009469|   97163|\n",
      "|Background|      tcp|         80|    <?>|       56949|    PA_A|3599.978271|   0|   0| 100926|64254705|61869003|\n",
      "|Background|      tcp|      48761|    <?>|        8000|    A_PA|3599.985596|   0|   0| 112824|93703863| 3076176|\n",
      "|Background|      udp|      54176|    <->|       13363|     CON|2421.037842|   0|   0|     11|    1451|    1091|\n",
      "+----------+---------+-----------+-------+------------+--------+-----------+----+----+-------+--------+--------+\n",
      "only showing top 20 rows\n",
      "\n"
     ]
    }
   ],
   "source": [
    "df = df.withColumnRenamed('Proto','protocolo').withColumnRenamed('Sport','PortaOrigem').withColumnRenamed('Dir','Direcao')\\\n",
    "        .withColumnRenamed('Dport','PortaDestino').withColumnRenamed('State','Estado').withColumnRenamed('Dur','Duracao')\\\n",
    "        .withColumnRenamed('Label',\"Rotulo\")\n",
    "df.show()"
   ]
  },
  {
   "cell_type": "markdown",
   "id": "2958a42c",
   "metadata": {},
   "source": [
    "**Mostrar Nomes das Colunas**"
   ]
  },
  {
   "cell_type": "code",
   "execution_count": 48,
   "id": "12cf4292",
   "metadata": {},
   "outputs": [
    {
     "data": {
      "text/plain": [
       "['Rotulo',\n",
       " 'protocolo',\n",
       " 'PortaOrigem',\n",
       " 'Direcao',\n",
       " 'PortaDestino',\n",
       " 'Estado',\n",
       " 'Duracao',\n",
       " 'sTos',\n",
       " 'dTos',\n",
       " 'TotPkts',\n",
       " 'TotBytes',\n",
       " 'SrcBytes']"
      ]
     },
     "execution_count": 48,
     "metadata": {},
     "output_type": "execute_result"
    }
   ],
   "source": [
    "df.columns"
   ]
  },
  {
   "cell_type": "code",
   "execution_count": 49,
   "id": "c135048c",
   "metadata": {},
   "outputs": [
    {
     "name": "stdout",
     "output_type": "stream",
     "text": [
      "+----------+---------+-----------+-------+------------+--------+-----------+----+----+-------+--------+--------+\n",
      "|    Rotulo|protocolo|PortaOrigem|Direcao|PortaDestino|  Estado|    Duracao|sTos|dTos|TotPkts|TotBytes|SrcBytes|\n",
      "+----------+---------+-----------+-------+------------+--------+-----------+----+----+-------+--------+--------+\n",
      "|Background|      udp|      60621|    <->|       63550|     CON| 2752.65625|   0|   0|      3|     435|     290|\n",
      "|Background|      udp|      51413|    <->|       63550|     CON|1849.315552|   0|   0|      3|     417|     272|\n",
      "|Background|      udp|      63195|    <->|       63550|     CON|2091.747314|   0|   0|      2|     290|     145|\n",
      "|Background|      udp|      39110|    <->|       63550|     CON|1535.769409|   0|   0|      2|     290|     145|\n",
      "|Background|      tcp|      33426|    <?>|       25443|FRPA_FPA|   0.002636|   0|   0|      6|     490|     321|\n",
      "|Background|      udp|      41915|    <->|       43087|     CON|   72.43679|   0|   0|  23849|24298138|  509912|\n",
      "|Background|      tcp|      42020|    <?>|         993|   PA_PA|3599.473633|   0|   0|    543|   98018|   33640|\n",
      "|Background|      tcp|      49190|    <?>|          80|   A_FPA|  28.152548|   0|   0|    222|  191281|    6610|\n",
      "|Background|      tcp|      51287|    <?>|       31002| FPA_FPA| 632.001648|   0|   0|  15347| 2542390| 2237911|\n",
      "|Background|      udp|      31002|    <->|       49621|     CON| 628.915222|   0|   0|   9464| 2024974| 2022958|\n",
      "|Background|      udp|      39051|     ->|        1153|     INT|    1.77E-4|   0|null|      1|     145|     145|\n",
      "|Background|     icmp|     0x0303|     ->|      0x8104|     URP|        0.0|   0|null|      1|     173|     173|\n",
      "|Background|      tcp|      53389|    <?>|       48190| RPA_FPA|1315.114136|   0|   0|  59405|24973123|21487780|\n",
      "|Background|      tcp|         80|    <?>|        2774|  FPA_FA|  450.40683|   0|   0|  85347|97405130|96357830|\n",
      "|Background|      tcp|       8000|    <?>|        3978|  PA_FRA| 123.438812|   0|   0|   4238| 4189542| 4104702|\n",
      "|Background|      tcp|       2828|     ->|          80|FPA_FSPA|   0.069355|   0|   0|      7|    1202|     739|\n",
      "|Background|      udp|      31011|    <->|       43087|     CON| 118.675606|   0|   0|   4788| 5009469|   97163|\n",
      "|Background|      tcp|         80|    <?>|       56949|    PA_A|3599.978271|   0|   0| 100926|64254705|61869003|\n",
      "|Background|      tcp|      48761|    <?>|        8000|    A_PA|3599.985596|   0|   0| 112824|93703863| 3076176|\n",
      "|Background|      udp|      54176|    <->|       13363|     CON|2421.037842|   0|   0|     11|    1451|    1091|\n",
      "+----------+---------+-----------+-------+------------+--------+-----------+----+----+-------+--------+--------+\n",
      "only showing top 20 rows\n",
      "\n"
     ]
    }
   ],
   "source": [
    "df.show()\n",
    "               "
   ]
  },
  {
   "cell_type": "markdown",
   "id": "5038bc13",
   "metadata": {},
   "source": [
    "**Selecionar Colunas, atribuir ao novo datafreme**"
   ]
  },
  {
   "cell_type": "code",
   "execution_count": 50,
   "id": "3fe8f9b8",
   "metadata": {},
   "outputs": [
    {
     "name": "stdout",
     "output_type": "stream",
     "text": [
      "+-----------+---------+-----------+-------+------------+--------+----+----+-------+--------+--------+----------+\n",
      "|    Duracao|protocolo|PortaOrigem|Direcao|PortaDestino|  Estado|sTos|dTos|TotPkts|TotBytes|SrcBytes|    Rotulo|\n",
      "+-----------+---------+-----------+-------+------------+--------+----+----+-------+--------+--------+----------+\n",
      "| 2752.65625|      udp|      60621|    <->|       63550|     CON|   0|   0|      3|     435|     290|Background|\n",
      "|1849.315552|      udp|      51413|    <->|       63550|     CON|   0|   0|      3|     417|     272|Background|\n",
      "|2091.747314|      udp|      63195|    <->|       63550|     CON|   0|   0|      2|     290|     145|Background|\n",
      "|1535.769409|      udp|      39110|    <->|       63550|     CON|   0|   0|      2|     290|     145|Background|\n",
      "|   0.002636|      tcp|      33426|    <?>|       25443|FRPA_FPA|   0|   0|      6|     490|     321|Background|\n",
      "+-----------+---------+-----------+-------+------------+--------+----+----+-------+--------+--------+----------+\n",
      "only showing top 5 rows\n",
      "\n"
     ]
    }
   ],
   "source": [
    "df = df.select(col('Duracao'),col('protocolo'),col('PortaOrigem'),col('Direcao'),col('PortaDestino'),col('Estado')\\\n",
    "         ,col('sTos'),col('dTos'),col('TotPkts'),col('TotBytes'),col('SrcBytes'),col('Rotulo'))\n",
    "\n",
    "df.show(5)"
   ]
  },
  {
   "cell_type": "markdown",
   "id": "c57f3ed9",
   "metadata": {},
   "source": [
    "**Alterar o tipo de dados**"
   ]
  },
  {
   "cell_type": "code",
   "execution_count": 51,
   "id": "ae09549a",
   "metadata": {},
   "outputs": [
    {
     "name": "stdout",
     "output_type": "stream",
     "text": [
      "root\n",
      " |-- Duracao: double (nullable = true)\n",
      " |-- protocolo: string (nullable = true)\n",
      " |-- PortaOrigem: string (nullable = true)\n",
      " |-- Direcao: string (nullable = true)\n",
      " |-- PortaDestino: string (nullable = true)\n",
      " |-- Estado: string (nullable = true)\n",
      " |-- sTos: integer (nullable = true)\n",
      " |-- dTos: integer (nullable = true)\n",
      " |-- TotPkts: integer (nullable = true)\n",
      " |-- TotBytes: integer (nullable = true)\n",
      " |-- SrcBytes: integer (nullable = true)\n",
      " |-- Rotulo: string (nullable = true)\n",
      "\n"
     ]
    }
   ],
   "source": [
    "df.printSchema()"
   ]
  },
  {
   "cell_type": "code",
   "execution_count": 52,
   "id": "0ae944a4",
   "metadata": {},
   "outputs": [
    {
     "name": "stdout",
     "output_type": "stream",
     "text": [
      "root\n",
      " |-- Duracao: double (nullable = true)\n",
      " |-- protocolo: string (nullable = true)\n",
      " |-- PortaOrigem: integer (nullable = true)\n",
      " |-- Direcao: string (nullable = true)\n",
      " |-- PortaDestino: integer (nullable = true)\n",
      " |-- Estado: string (nullable = true)\n",
      " |-- sTos: integer (nullable = true)\n",
      " |-- dTos: integer (nullable = true)\n",
      " |-- TotPkts: integer (nullable = true)\n",
      " |-- TotBytes: integer (nullable = true)\n",
      " |-- SrcBytes: integer (nullable = true)\n",
      " |-- Rotulo: string (nullable = true)\n",
      "\n"
     ]
    }
   ],
   "source": [
    "df = df.withColumn('PortaOrigem',col('Portaorigem').cast(IntegerType()))\\\n",
    "        .withColumn('PortaDestino',col('PortaDestino').cast(IntegerType()))\n",
    "\n",
    "df.printSchema()"
   ]
  },
  {
   "cell_type": "markdown",
   "id": "6ea15d27",
   "metadata": {},
   "source": [
    "**Tratando Valores Nulos / dados faltante**"
   ]
  },
  {
   "cell_type": "markdown",
   "id": "7d49be41",
   "metadata": {},
   "source": [
    "**Verificar Valores Nulos em cada coluna {Nome_coluna : Qtd de Valores nulos}**"
   ]
  },
  {
   "cell_type": "code",
   "execution_count": 53,
   "id": "7662761f",
   "metadata": {},
   "outputs": [
    {
     "name": "stdout",
     "output_type": "stream",
     "text": [
      "Duracao  :  0\n",
      "protocolo  :  0\n",
      "PortaOrigem  :  135176\n",
      "Direcao  :  0\n",
      "PortaDestino  :  135709\n",
      "Estado  :  1228\n",
      "sTos  :  12852\n",
      "dTos  :  186791\n",
      "TotPkts  :  0\n",
      "TotBytes  :  0\n",
      "SrcBytes  :  0\n",
      "Rotulo  :  0\n"
     ]
    }
   ],
   "source": [
    "for coluna in df.columns:\n",
    "    print(coluna,\" : \", df.filter(df[coluna].isNull()).count())"
   ]
  },
  {
   "cell_type": "markdown",
   "id": "3b3500a4",
   "metadata": {},
   "source": [
    "**Preencher Valores nulos apartir do calculo da moda (a frequencia dos dados)**"
   ]
  },
  {
   "cell_type": "code",
   "execution_count": 54,
   "id": "dda2a000",
   "metadata": {},
   "outputs": [
    {
     "name": "stdout",
     "output_type": "stream",
     "text": [
      "Nome da coluna : O valor com maior frequencia (Moda)\n",
      "PortaOrigem  :  13363\n",
      "PortaDestino  :  53\n",
      "Estado  :  CON\n",
      "sTos  :  0\n",
      "dTos  :  0\n"
     ]
    }
   ],
   "source": [
    "# A impressao dos valores eh so para mostrar qual eh o valor mais frequente (a moda) em cda uma das colunas que posuem dados nulos\n",
    "print(\"Nome da coluna : O valor com maior frequencia (Moda)\")\n",
    "\n",
    "for coluna in df.columns:\n",
    "    if df.filter(df[coluna].isNull()).count() != 0:\n",
    "        count_mode_val = df.groupBy(coluna).count().filter(col(coluna).isNotNull())\\\n",
    "                            .agg(max(\"count\")).collect()[0][0]\n",
    "        mode_val = df.groupBy(coluna).count().filter(col(coluna).isNotNull())\\\n",
    "                            .filter(col(\"count\") == count_mode_val).select(coluna).collect()[0][0]\n",
    "\n",
    "        print(coluna,\" : \", mode_val)\n",
    "        df=df.na.fill(mode_val,subset=[coluna])"
   ]
  },
  {
   "cell_type": "code",
   "execution_count": null,
   "id": "ef074ee2",
   "metadata": {},
   "outputs": [],
   "source": []
  },
  {
   "cell_type": "markdown",
   "id": "d081fe09",
   "metadata": {},
   "source": [
    "**Verificando Novamente Valores nulos**"
   ]
  },
  {
   "cell_type": "code",
   "execution_count": 55,
   "id": "719ad276",
   "metadata": {},
   "outputs": [
    {
     "name": "stdout",
     "output_type": "stream",
     "text": [
      "Duracao  :  0\n",
      "protocolo  :  0\n",
      "PortaOrigem  :  0\n",
      "Direcao  :  0\n",
      "PortaDestino  :  0\n",
      "Estado  :  0\n",
      "sTos  :  0\n",
      "dTos  :  0\n",
      "TotPkts  :  0\n",
      "TotBytes  :  0\n",
      "SrcBytes  :  0\n",
      "Rotulo  :  0\n"
     ]
    }
   ],
   "source": [
    "for coluna in df.columns:\n",
    "    print(coluna,\" : \", df.filter(df[coluna].isNull()).count())"
   ]
  },
  {
   "cell_type": "markdown",
   "id": "e8e50eb5",
   "metadata": {},
   "source": [
    "**Mostrar o dataset**"
   ]
  },
  {
   "cell_type": "code",
   "execution_count": 56,
   "id": "93d59688",
   "metadata": {},
   "outputs": [
    {
     "name": "stdout",
     "output_type": "stream",
     "text": [
      "+-----------+---------+-----------+-------+------------+--------+----+----+-------+--------+--------+----------+\n",
      "|    Duracao|protocolo|PortaOrigem|Direcao|PortaDestino|  Estado|sTos|dTos|TotPkts|TotBytes|SrcBytes|    Rotulo|\n",
      "+-----------+---------+-----------+-------+------------+--------+----+----+-------+--------+--------+----------+\n",
      "| 2752.65625|      udp|      60621|    <->|       63550|     CON|   0|   0|      3|     435|     290|Background|\n",
      "|1849.315552|      udp|      51413|    <->|       63550|     CON|   0|   0|      3|     417|     272|Background|\n",
      "|2091.747314|      udp|      63195|    <->|       63550|     CON|   0|   0|      2|     290|     145|Background|\n",
      "|1535.769409|      udp|      39110|    <->|       63550|     CON|   0|   0|      2|     290|     145|Background|\n",
      "|   0.002636|      tcp|      33426|    <?>|       25443|FRPA_FPA|   0|   0|      6|     490|     321|Background|\n",
      "+-----------+---------+-----------+-------+------------+--------+----+----+-------+--------+--------+----------+\n",
      "only showing top 5 rows\n",
      "\n"
     ]
    }
   ],
   "source": [
    "df.show(5)"
   ]
  },
  {
   "cell_type": "markdown",
   "id": "77951f70",
   "metadata": {},
   "source": [
    "**Tratando dados ruidosos** "
   ]
  },
  {
   "cell_type": "code",
   "execution_count": null,
   "id": "52fe918a",
   "metadata": {},
   "outputs": [],
   "source": []
  },
  {
   "cell_type": "code",
   "execution_count": null,
   "id": "3d62205e",
   "metadata": {},
   "outputs": [],
   "source": []
  },
  {
   "cell_type": "code",
   "execution_count": null,
   "id": "863319e5",
   "metadata": {},
   "outputs": [],
   "source": []
  },
  {
   "cell_type": "markdown",
   "id": "e00e782b",
   "metadata": {},
   "source": [
    "**Modando nome da coluna porta origem e destino para que as consultas da tempView funcionem\n",
    "    (o spark.sql nao reconhece nomes de colunas unidas por \" - \", ele considera como se fosse dois nomes)**"
   ]
  },
  {
   "cell_type": "code",
   "execution_count": null,
   "id": "3fa09271",
   "metadata": {},
   "outputs": [],
   "source": []
  },
  {
   "cell_type": "code",
   "execution_count": 57,
   "id": "6ff13c5f",
   "metadata": {},
   "outputs": [
    {
     "name": "stdout",
     "output_type": "stream",
     "text": [
      "+-----------+---------+-----------+-------+------------+--------+----+----+-------+--------+--------+----------+\n",
      "|    Duracao|protocolo|PortaOrigem|Direcao|PortaDestino|  Estado|sTos|dTos|TotPkts|TotBytes|SrcBytes|    Rotulo|\n",
      "+-----------+---------+-----------+-------+------------+--------+----+----+-------+--------+--------+----------+\n",
      "| 2752.65625|      udp|      60621|    <->|       63550|     CON|   0|   0|      3|     435|     290|Background|\n",
      "|1849.315552|      udp|      51413|    <->|       63550|     CON|   0|   0|      3|     417|     272|Background|\n",
      "|2091.747314|      udp|      63195|    <->|       63550|     CON|   0|   0|      2|     290|     145|Background|\n",
      "|1535.769409|      udp|      39110|    <->|       63550|     CON|   0|   0|      2|     290|     145|Background|\n",
      "|   0.002636|      tcp|      33426|    <?>|       25443|FRPA_FPA|   0|   0|      6|     490|     321|Background|\n",
      "+-----------+---------+-----------+-------+------------+--------+----+----+-------+--------+--------+----------+\n",
      "only showing top 5 rows\n",
      "\n"
     ]
    }
   ],
   "source": [
    "df.show(5)"
   ]
  },
  {
   "cell_type": "code",
   "execution_count": 58,
   "id": "3cda1be7",
   "metadata": {},
   "outputs": [
    {
     "name": "stdout",
     "output_type": "stream",
     "text": [
      "+--------+\n",
      "|count(1)|\n",
      "+--------+\n",
      "| 1309791|\n",
      "+--------+\n",
      "\n"
     ]
    }
   ],
   "source": [
    "df.createOrReplaceTempView(\"tabela\")\n",
    "spark.sql(\"SELECT count(*) from tabela\").show()"
   ]
  },
  {
   "cell_type": "code",
   "execution_count": 59,
   "id": "76ba152e",
   "metadata": {},
   "outputs": [
    {
     "name": "stdout",
     "output_type": "stream",
     "text": [
      "+-----------+\n",
      "|    Duracao|\n",
      "+-----------+\n",
      "|    7.18E-4|\n",
      "|3017.522949|\n",
      "| 3552.17749|\n",
      "| 416.194489|\n",
      "|     7.5E-4|\n",
      "|  516.55481|\n",
      "| 114.511345|\n",
      "|    0.00195|\n",
      "|   0.059421|\n",
      "|3228.565918|\n",
      "| 244.545197|\n",
      "| 309.717377|\n",
      "|    3.71E-4|\n",
      "|    0.19075|\n",
      "|   1.511531|\n",
      "|   0.179585|\n",
      "|   0.001894|\n",
      "|  16.983456|\n",
      "|3376.620605|\n",
      "|3096.484131|\n",
      "+-----------+\n",
      "only showing top 20 rows\n",
      "\n"
     ]
    }
   ],
   "source": [
    "spark.sql(\"SELECT DISTINCT Duracao from tabela\").show()"
   ]
  },
  {
   "cell_type": "code",
   "execution_count": 60,
   "id": "6eaee53d",
   "metadata": {},
   "outputs": [
    {
     "data": {
      "text/plain": [
       "63057"
      ]
     },
     "execution_count": 60,
     "metadata": {},
     "output_type": "execute_result"
    }
   ],
   "source": [
    "spark.sql(\"SELECT DISTINCT PortaOrigem from tabela\").count()"
   ]
  },
  {
   "cell_type": "code",
   "execution_count": 61,
   "id": "1f164035",
   "metadata": {},
   "outputs": [
    {
     "name": "stdout",
     "output_type": "stream",
     "text": [
      "+-----------+\n",
      "|PortaOrigem|\n",
      "+-----------+\n",
      "|       1238|\n",
      "|      53565|\n",
      "|      53963|\n",
      "|       4935|\n",
      "|      35820|\n",
      "|      43527|\n",
      "|      13840|\n",
      "|      37111|\n",
      "|      63155|\n",
      "|       6620|\n",
      "|      44822|\n",
      "|      29894|\n",
      "|      53634|\n",
      "|      49717|\n",
      "|      20924|\n",
      "|      50348|\n",
      "|       2866|\n",
      "|      57201|\n",
      "|      23336|\n",
      "|      35361|\n",
      "+-----------+\n",
      "only showing top 20 rows\n",
      "\n"
     ]
    }
   ],
   "source": [
    "spark.sql(\"SELECT DISTINCT PortaOrigem from tabela\").show()"
   ]
  },
  {
   "cell_type": "code",
   "execution_count": 62,
   "id": "795f3ab3",
   "metadata": {},
   "outputs": [
    {
     "name": "stdout",
     "output_type": "stream",
     "text": [
      "+-------+\n",
      "|Direcao|\n",
      "+-------+\n",
      "|who    |\n",
      "|?>     |\n",
      "|<->    |\n",
      "|<?>    |\n",
      "|<-     |\n",
      "|->     |\n",
      "+-------+\n",
      "\n"
     ]
    }
   ],
   "source": [
    "spark.sql(\"SELECT DISTINCT Direcao from tabela\").show(truncate=False)"
   ]
  },
  {
   "cell_type": "markdown",
   "id": "c2690f69",
   "metadata": {},
   "source": [
    "**O Uso da funcao do replace do spark foi necessaria para tratar dados ruidosos na coluna Direcao**\n",
    "Tratandosse de dados bidirecional, a coluna deveria ter direcao para duplo sentido, sentido esquedo e direito"
   ]
  },
  {
   "cell_type": "code",
   "execution_count": 63,
   "id": "e46f9f47",
   "metadata": {},
   "outputs": [],
   "source": [
    "# Funcao replace do sql\n",
    "\n",
    "df=spark.sql(\"SELECT Duracao, protocolo, PortaOrigem, REPLACE(Direcao, '?', '-') as Direcao, PortaDestino, Estado\\\n",
    "            ,sTos, dTos, TotPkts, TotBytes, SrcBytes, Rotulo  from tabela\")"
   ]
  },
  {
   "cell_type": "code",
   "execution_count": 64,
   "id": "57ce0ceb",
   "metadata": {},
   "outputs": [
    {
     "name": "stdout",
     "output_type": "stream",
     "text": [
      "+-------+\n",
      "|Direcao|\n",
      "+-------+\n",
      "|who    |\n",
      "|<->    |\n",
      "|<-     |\n",
      "|->     |\n",
      "+-------+\n",
      "\n"
     ]
    }
   ],
   "source": [
    "df.createOrReplaceTempView(\"tabela\")\n",
    "spark.sql(\"SELECT DISTINCT Direcao from tabela\").show(truncate=False)"
   ]
  },
  {
   "cell_type": "code",
   "execution_count": 65,
   "id": "9131a62d",
   "metadata": {},
   "outputs": [
    {
     "name": "stdout",
     "output_type": "stream",
     "text": [
      "+-------+\n",
      "|Direcao|\n",
      "+-------+\n",
      "|<->    |\n",
      "|<-     |\n",
      "|->     |\n",
      "+-------+\n",
      "\n"
     ]
    }
   ],
   "source": [
    "df=df.withColumn('Direcao', regexp_replace('Direcao','who','<->'))\n",
    "df.createOrReplaceTempView(\"tabela\")\n",
    "spark.sql(\"SELECT DISTINCT Direcao from tabela\").show(truncate=False)"
   ]
  },
  {
   "cell_type": "markdown",
   "id": "d93bf5ad",
   "metadata": {},
   "source": [
    "**Elimanar linhas repetidas - a funcao distintct() e a dropDuplicates() (quando nao passado nenhum parametro funcianam da mesma maneira, eliminanam linhas repetidas e retornam um novo datafreme)**"
   ]
  },
  {
   "cell_type": "code",
   "execution_count": 66,
   "id": "6a629586",
   "metadata": {},
   "outputs": [
    {
     "data": {
      "text/plain": [
       "1309791"
      ]
     },
     "execution_count": 66,
     "metadata": {},
     "output_type": "execute_result"
    }
   ],
   "source": [
    "#Total de linhas antes da eliminacao de linhas duplicadas \n",
    "df.count()"
   ]
  },
  {
   "cell_type": "code",
   "execution_count": 67,
   "id": "a2af664d",
   "metadata": {},
   "outputs": [
    {
     "name": "stdout",
     "output_type": "stream",
     "text": [
      "+----------+\n",
      "|sum(count)|\n",
      "+----------+\n",
      "|    125547|\n",
      "+----------+\n",
      "\n"
     ]
    }
   ],
   "source": [
    "# Contar linhas duplicadas \n",
    "\n",
    "df.groupBy(df.columns).count().where(col('count') > 1).select(sum('count')).show()"
   ]
  },
  {
   "cell_type": "code",
   "execution_count": 68,
   "id": "02ff9ad5",
   "metadata": {},
   "outputs": [
    {
     "data": {
      "text/plain": [
       "1189304"
      ]
     },
     "execution_count": 68,
     "metadata": {},
     "output_type": "execute_result"
    }
   ],
   "source": [
    "# Total de linhas depois de eliminacao de duplicatas\n",
    "df.dropDuplicates().count()"
   ]
  },
  {
   "cell_type": "code",
   "execution_count": 69,
   "id": "6e3bb9f0",
   "metadata": {},
   "outputs": [],
   "source": [
    "df=df.dropDuplicates()"
   ]
  },
  {
   "cell_type": "code",
   "execution_count": 70,
   "id": "cb0d7d4e",
   "metadata": {},
   "outputs": [
    {
     "data": {
      "text/plain": [
       "1189304"
      ]
     },
     "execution_count": 70,
     "metadata": {},
     "output_type": "execute_result"
    }
   ],
   "source": [
    "df.count()"
   ]
  },
  {
   "cell_type": "code",
   "execution_count": null,
   "id": "be7d6440",
   "metadata": {},
   "outputs": [],
   "source": []
  },
  {
   "cell_type": "code",
   "execution_count": null,
   "id": "a7bae735",
   "metadata": {},
   "outputs": [],
   "source": []
  },
  {
   "cell_type": "markdown",
   "id": "ffeb4d86",
   "metadata": {},
   "source": [
    "**CENARIO 11**"
   ]
  },
  {
   "cell_type": "code",
   "execution_count": 71,
   "id": "b74734f6",
   "metadata": {},
   "outputs": [],
   "source": [
    "df = spark.read.csv('C:/Users/Belilo/Desktop/SparkJupyter/datasets/ctu13/cenario11.csv', header=True,inferSchema=True)"
   ]
  },
  {
   "cell_type": "code",
   "execution_count": 72,
   "id": "9836d59e",
   "metadata": {},
   "outputs": [
    {
     "name": "stdout",
     "output_type": "stream",
     "text": [
      "+----------+-----+-----+---+-----+-------+----------+----+----+-------+---------+--------+\n",
      "|     Label|Proto|Sport|Dir|Dport|  State|       Dur|sTos|dTos|TotPkts| TotBytes|SrcBytes|\n",
      "+----------+-----+-----+---+-----+-------+----------+----+----+-------+---------+--------+\n",
      "|Background|  tcp| 1078|<?>|   80|RPA_FPA| 83.062141|   0|   0|  43065| 40974671| 1033777|\n",
      "|Background|  tcp|13121|<?>|62860| RPA_PA|497.720459|   0|   0| 326962|132430976| 7076046|\n",
      "|Background|  tcp|   80|<?>| 3088|   PA_A|971.288147|   0|   0|   7912|  7356876| 7153650|\n",
      "|Background|  tcp|54518|<?>|  993|  PA_PA|899.996399|   0|   0|     48|     5728|    3008|\n",
      "|Background|  tcp|19083| ?>| 2185|   RPA_| 38.753445|   0|null|      7|      456|     456|\n",
      "+----------+-----+-----+---+-----+-------+----------+----+----+-------+---------+--------+\n",
      "only showing top 5 rows\n",
      "\n"
     ]
    }
   ],
   "source": [
    "df.show(5)"
   ]
  },
  {
   "cell_type": "markdown",
   "id": "8eeb13e8",
   "metadata": {},
   "source": [
    "**Contar todos dados do datset**\n"
   ]
  },
  {
   "cell_type": "code",
   "execution_count": 73,
   "id": "49f9317e",
   "metadata": {},
   "outputs": [
    {
     "data": {
      "text/plain": [
       "107251"
      ]
     },
     "execution_count": 73,
     "metadata": {},
     "output_type": "execute_result"
    }
   ],
   "source": [
    "df.count()"
   ]
  },
  {
   "cell_type": "markdown",
   "id": "aa0ac1af",
   "metadata": {},
   "source": [
    "**Verificar os tipos de dados em cada coluna**"
   ]
  },
  {
   "cell_type": "code",
   "execution_count": 74,
   "id": "9fdc54b0",
   "metadata": {},
   "outputs": [
    {
     "name": "stdout",
     "output_type": "stream",
     "text": [
      "root\n",
      " |-- Label: string (nullable = true)\n",
      " |-- Proto: string (nullable = true)\n",
      " |-- Sport: string (nullable = true)\n",
      " |-- Dir: string (nullable = true)\n",
      " |-- Dport: string (nullable = true)\n",
      " |-- State: string (nullable = true)\n",
      " |-- Dur: double (nullable = true)\n",
      " |-- sTos: integer (nullable = true)\n",
      " |-- dTos: integer (nullable = true)\n",
      " |-- TotPkts: integer (nullable = true)\n",
      " |-- TotBytes: integer (nullable = true)\n",
      " |-- SrcBytes: integer (nullable = true)\n",
      "\n"
     ]
    }
   ],
   "source": [
    "df.printSchema()"
   ]
  },
  {
   "cell_type": "markdown",
   "id": "2c85cb5f",
   "metadata": {},
   "source": [
    "**Remonear colunas**"
   ]
  },
  {
   "cell_type": "code",
   "execution_count": 75,
   "id": "03a06161",
   "metadata": {},
   "outputs": [
    {
     "name": "stdout",
     "output_type": "stream",
     "text": [
      "+----------+---------+-----------+-------+------------+-------+----------+----+----+-------+---------+--------+\n",
      "|    Rotulo|protocolo|PortaOrigem|Direcao|PortaDestino| Estado|   Duracao|sTos|dTos|TotPkts| TotBytes|SrcBytes|\n",
      "+----------+---------+-----------+-------+------------+-------+----------+----+----+-------+---------+--------+\n",
      "|Background|      tcp|       1078|    <?>|          80|RPA_FPA| 83.062141|   0|   0|  43065| 40974671| 1033777|\n",
      "|Background|      tcp|      13121|    <?>|       62860| RPA_PA|497.720459|   0|   0| 326962|132430976| 7076046|\n",
      "|Background|      tcp|         80|    <?>|        3088|   PA_A|971.288147|   0|   0|   7912|  7356876| 7153650|\n",
      "|Background|      tcp|      54518|    <?>|         993|  PA_PA|899.996399|   0|   0|     48|     5728|    3008|\n",
      "|Background|      tcp|      19083|     ?>|        2185|   RPA_| 38.753445|   0|null|      7|      456|     456|\n",
      "|Background|      tcp|       3095|    <?>|          80|  RA_PA|662.994385|   0|   0|   6137|  5700818|  158064|\n",
      "|Background|      tcp|       3090|    <?>|          80| FRA_PA|485.885773|   0|   0|   4153|  3858512|  106820|\n",
      "|Background|      udp|      19146|    <->|       51180|    CON|971.284058|   0|   0| 118864| 29360448|22872870|\n",
      "|    Normal|      tcp|      57264|    <?>|         443| PA_RPA|969.978516|   0|   0|     53|     4279|    1791|\n",
      "|    Normal|      tcp|      43869|    <?>|         443|   PA_A|960.128662|   0|   0|     38|     2280|    1140|\n",
      "|    Normal|      tcp|      58187|    <?>|         443|  PA_PA|960.126648|   0|   0|    129|    22731|    7130|\n",
      "|Background|      tcp|         80|    <?>|       32792|  PA_PA| 931.97052|   0|   0|    147|    74900|   13404|\n",
      "|Background|      tcp|        443|    <?>|       33389|  PA_PA|959.095459|   0|   0|    191|    61146|   30372|\n",
      "|Background|      tcp|         80|    <?>|        3994| FPA_FA| 40.137089|   0|   0|   4727|  4558603| 4452163|\n",
      "|Background|      tcp|      39842|    <?>|          80|  FA_FA| 60.918018|   0|   0|      8|      528|     264|\n",
      "|Background|      tcp|      48602|    <?>|       13363|  PA_PA|955.168884|   0|   0|    487|    55798|   35900|\n",
      "|Background|      udp|      13363|    <->|       35188|    CON|938.043274|   0|   0|     43|     8328|    4371|\n",
      "|Background|      tcp|      13363|    <?>|       60612|  PA_PA|905.968018|   0|   0|     42|     2836|    1630|\n",
      "|Background|      tcp|      49422|    <?>|       53389|  PA_PA|935.789551|   0|   0|  41644| 10902960| 3019813|\n",
      "|Background|      tcp|        443|    <?>|       50328|  PA_PA|971.228333|   0|   0|  12677|  5272348| 4584731|\n",
      "+----------+---------+-----------+-------+------------+-------+----------+----+----+-------+---------+--------+\n",
      "only showing top 20 rows\n",
      "\n"
     ]
    }
   ],
   "source": [
    "df = df.withColumnRenamed('Proto','protocolo').withColumnRenamed('Sport','PortaOrigem').withColumnRenamed('Dir','Direcao')\\\n",
    "        .withColumnRenamed('Dport','PortaDestino').withColumnRenamed('State','Estado').withColumnRenamed('Dur','Duracao')\\\n",
    "        .withColumnRenamed('Label',\"Rotulo\")\n",
    "df.show()"
   ]
  },
  {
   "cell_type": "markdown",
   "id": "06a8c961",
   "metadata": {},
   "source": [
    "**Mostrar Nomes das Colunas**"
   ]
  },
  {
   "cell_type": "code",
   "execution_count": 76,
   "id": "59ecbe03",
   "metadata": {},
   "outputs": [
    {
     "data": {
      "text/plain": [
       "['Rotulo',\n",
       " 'protocolo',\n",
       " 'PortaOrigem',\n",
       " 'Direcao',\n",
       " 'PortaDestino',\n",
       " 'Estado',\n",
       " 'Duracao',\n",
       " 'sTos',\n",
       " 'dTos',\n",
       " 'TotPkts',\n",
       " 'TotBytes',\n",
       " 'SrcBytes']"
      ]
     },
     "execution_count": 76,
     "metadata": {},
     "output_type": "execute_result"
    }
   ],
   "source": [
    "df.columns"
   ]
  },
  {
   "cell_type": "code",
   "execution_count": 77,
   "id": "2a4ea3b8",
   "metadata": {},
   "outputs": [
    {
     "name": "stdout",
     "output_type": "stream",
     "text": [
      "+----------+---------+-----------+-------+------------+-------+----------+----+----+-------+---------+--------+\n",
      "|    Rotulo|protocolo|PortaOrigem|Direcao|PortaDestino| Estado|   Duracao|sTos|dTos|TotPkts| TotBytes|SrcBytes|\n",
      "+----------+---------+-----------+-------+------------+-------+----------+----+----+-------+---------+--------+\n",
      "|Background|      tcp|       1078|    <?>|          80|RPA_FPA| 83.062141|   0|   0|  43065| 40974671| 1033777|\n",
      "|Background|      tcp|      13121|    <?>|       62860| RPA_PA|497.720459|   0|   0| 326962|132430976| 7076046|\n",
      "|Background|      tcp|         80|    <?>|        3088|   PA_A|971.288147|   0|   0|   7912|  7356876| 7153650|\n",
      "|Background|      tcp|      54518|    <?>|         993|  PA_PA|899.996399|   0|   0|     48|     5728|    3008|\n",
      "|Background|      tcp|      19083|     ?>|        2185|   RPA_| 38.753445|   0|null|      7|      456|     456|\n",
      "|Background|      tcp|       3095|    <?>|          80|  RA_PA|662.994385|   0|   0|   6137|  5700818|  158064|\n",
      "|Background|      tcp|       3090|    <?>|          80| FRA_PA|485.885773|   0|   0|   4153|  3858512|  106820|\n",
      "|Background|      udp|      19146|    <->|       51180|    CON|971.284058|   0|   0| 118864| 29360448|22872870|\n",
      "|    Normal|      tcp|      57264|    <?>|         443| PA_RPA|969.978516|   0|   0|     53|     4279|    1791|\n",
      "|    Normal|      tcp|      43869|    <?>|         443|   PA_A|960.128662|   0|   0|     38|     2280|    1140|\n",
      "|    Normal|      tcp|      58187|    <?>|         443|  PA_PA|960.126648|   0|   0|    129|    22731|    7130|\n",
      "|Background|      tcp|         80|    <?>|       32792|  PA_PA| 931.97052|   0|   0|    147|    74900|   13404|\n",
      "|Background|      tcp|        443|    <?>|       33389|  PA_PA|959.095459|   0|   0|    191|    61146|   30372|\n",
      "|Background|      tcp|         80|    <?>|        3994| FPA_FA| 40.137089|   0|   0|   4727|  4558603| 4452163|\n",
      "|Background|      tcp|      39842|    <?>|          80|  FA_FA| 60.918018|   0|   0|      8|      528|     264|\n",
      "|Background|      tcp|      48602|    <?>|       13363|  PA_PA|955.168884|   0|   0|    487|    55798|   35900|\n",
      "|Background|      udp|      13363|    <->|       35188|    CON|938.043274|   0|   0|     43|     8328|    4371|\n",
      "|Background|      tcp|      13363|    <?>|       60612|  PA_PA|905.968018|   0|   0|     42|     2836|    1630|\n",
      "|Background|      tcp|      49422|    <?>|       53389|  PA_PA|935.789551|   0|   0|  41644| 10902960| 3019813|\n",
      "|Background|      tcp|        443|    <?>|       50328|  PA_PA|971.228333|   0|   0|  12677|  5272348| 4584731|\n",
      "+----------+---------+-----------+-------+------------+-------+----------+----+----+-------+---------+--------+\n",
      "only showing top 20 rows\n",
      "\n"
     ]
    }
   ],
   "source": [
    "df.show()\n",
    "               "
   ]
  },
  {
   "cell_type": "markdown",
   "id": "131a19e2",
   "metadata": {},
   "source": [
    "**Selecionar Colunas, atribuir ao novo datafreme**"
   ]
  },
  {
   "cell_type": "code",
   "execution_count": 78,
   "id": "7cb9fceb",
   "metadata": {},
   "outputs": [
    {
     "name": "stdout",
     "output_type": "stream",
     "text": [
      "+----------+---------+-----------+-------+------------+-------+----+----+-------+---------+--------+----------+\n",
      "|   Duracao|protocolo|PortaOrigem|Direcao|PortaDestino| Estado|sTos|dTos|TotPkts| TotBytes|SrcBytes|    Rotulo|\n",
      "+----------+---------+-----------+-------+------------+-------+----+----+-------+---------+--------+----------+\n",
      "| 83.062141|      tcp|       1078|    <?>|          80|RPA_FPA|   0|   0|  43065| 40974671| 1033777|Background|\n",
      "|497.720459|      tcp|      13121|    <?>|       62860| RPA_PA|   0|   0| 326962|132430976| 7076046|Background|\n",
      "|971.288147|      tcp|         80|    <?>|        3088|   PA_A|   0|   0|   7912|  7356876| 7153650|Background|\n",
      "|899.996399|      tcp|      54518|    <?>|         993|  PA_PA|   0|   0|     48|     5728|    3008|Background|\n",
      "| 38.753445|      tcp|      19083|     ?>|        2185|   RPA_|   0|null|      7|      456|     456|Background|\n",
      "+----------+---------+-----------+-------+------------+-------+----+----+-------+---------+--------+----------+\n",
      "only showing top 5 rows\n",
      "\n"
     ]
    }
   ],
   "source": [
    "df = df.select(col('Duracao'),col('protocolo'),col('PortaOrigem'),col('Direcao'),col('PortaDestino'),col('Estado')\\\n",
    "         ,col('sTos'),col('dTos'),col('TotPkts'),col('TotBytes'),col('SrcBytes'),col('Rotulo'))\n",
    "\n",
    "df.show(5)"
   ]
  },
  {
   "cell_type": "markdown",
   "id": "76580edb",
   "metadata": {},
   "source": [
    "**Alterar o tipo de dados**"
   ]
  },
  {
   "cell_type": "code",
   "execution_count": 79,
   "id": "5f1c6011",
   "metadata": {},
   "outputs": [
    {
     "name": "stdout",
     "output_type": "stream",
     "text": [
      "root\n",
      " |-- Duracao: double (nullable = true)\n",
      " |-- protocolo: string (nullable = true)\n",
      " |-- PortaOrigem: string (nullable = true)\n",
      " |-- Direcao: string (nullable = true)\n",
      " |-- PortaDestino: string (nullable = true)\n",
      " |-- Estado: string (nullable = true)\n",
      " |-- sTos: integer (nullable = true)\n",
      " |-- dTos: integer (nullable = true)\n",
      " |-- TotPkts: integer (nullable = true)\n",
      " |-- TotBytes: integer (nullable = true)\n",
      " |-- SrcBytes: integer (nullable = true)\n",
      " |-- Rotulo: string (nullable = true)\n",
      "\n"
     ]
    }
   ],
   "source": [
    "df.printSchema()"
   ]
  },
  {
   "cell_type": "code",
   "execution_count": 80,
   "id": "bcb58bf5",
   "metadata": {},
   "outputs": [
    {
     "name": "stdout",
     "output_type": "stream",
     "text": [
      "root\n",
      " |-- Duracao: double (nullable = true)\n",
      " |-- protocolo: string (nullable = true)\n",
      " |-- PortaOrigem: integer (nullable = true)\n",
      " |-- Direcao: string (nullable = true)\n",
      " |-- PortaDestino: integer (nullable = true)\n",
      " |-- Estado: string (nullable = true)\n",
      " |-- sTos: integer (nullable = true)\n",
      " |-- dTos: integer (nullable = true)\n",
      " |-- TotPkts: integer (nullable = true)\n",
      " |-- TotBytes: integer (nullable = true)\n",
      " |-- SrcBytes: integer (nullable = true)\n",
      " |-- Rotulo: string (nullable = true)\n",
      "\n"
     ]
    }
   ],
   "source": [
    "df = df.withColumn('PortaOrigem',col('Portaorigem').cast(IntegerType()))\\\n",
    "        .withColumn('PortaDestino',col('PortaDestino').cast(IntegerType()))\n",
    "\n",
    "df.printSchema()"
   ]
  },
  {
   "cell_type": "markdown",
   "id": "1c5b2851",
   "metadata": {},
   "source": [
    "**Tratando Valores Nulos / dados faltante**"
   ]
  },
  {
   "cell_type": "markdown",
   "id": "9192ede4",
   "metadata": {},
   "source": [
    "**Verificar Valores Nulos em cada coluna {Nome_coluna : Qtd de Valores nulos}**"
   ]
  },
  {
   "cell_type": "code",
   "execution_count": 81,
   "id": "70f85f85",
   "metadata": {},
   "outputs": [
    {
     "name": "stdout",
     "output_type": "stream",
     "text": [
      "Duracao  :  0\n",
      "protocolo  :  0\n",
      "PortaOrigem  :  12946\n",
      "Direcao  :  0\n",
      "PortaDestino  :  12990\n",
      "Estado  :  91\n",
      "sTos  :  980\n",
      "dTos  :  16959\n",
      "TotPkts  :  0\n",
      "TotBytes  :  0\n",
      "SrcBytes  :  0\n",
      "Rotulo  :  0\n"
     ]
    }
   ],
   "source": [
    "for coluna in df.columns:\n",
    "    print(coluna,\" : \", df.filter(df[coluna].isNull()).count())"
   ]
  },
  {
   "cell_type": "markdown",
   "id": "d9b17f65",
   "metadata": {},
   "source": [
    "**Preencher Valores nulos apartir do calculo da moda (a frequencia dos dados)**"
   ]
  },
  {
   "cell_type": "code",
   "execution_count": 82,
   "id": "a471add0",
   "metadata": {},
   "outputs": [
    {
     "name": "stdout",
     "output_type": "stream",
     "text": [
      "Nome da coluna : O valor com maior frequencia (Moda)\n",
      "PortaOrigem  :  13363\n",
      "PortaDestino  :  53\n",
      "Estado  :  CON\n",
      "sTos  :  0\n",
      "dTos  :  0\n"
     ]
    }
   ],
   "source": [
    "# A impressao dos valores eh so para mostrar qual eh o valor mais frequente (a moda) em cda uma das colunas que posuem dados nulos\n",
    "print(\"Nome da coluna : O valor com maior frequencia (Moda)\")\n",
    "\n",
    "for coluna in df.columns:\n",
    "    if df.filter(df[coluna].isNull()).count() != 0:\n",
    "        count_mode_val = df.groupBy(coluna).count().filter(col(coluna).isNotNull())\\\n",
    "                            .agg(max(\"count\")).collect()[0][0]\n",
    "        mode_val = df.groupBy(coluna).count().filter(col(coluna).isNotNull())\\\n",
    "                            .filter(col(\"count\") == count_mode_val).select(coluna).collect()[0][0]\n",
    "\n",
    "        print(coluna,\" : \", mode_val)\n",
    "        df=df.na.fill(mode_val,subset=[coluna])"
   ]
  },
  {
   "cell_type": "code",
   "execution_count": null,
   "id": "e17c34f9",
   "metadata": {},
   "outputs": [],
   "source": []
  },
  {
   "cell_type": "markdown",
   "id": "a2aa8696",
   "metadata": {},
   "source": [
    "**Verificando Novamente Valores nulos**"
   ]
  },
  {
   "cell_type": "code",
   "execution_count": 83,
   "id": "dcbc6c09",
   "metadata": {},
   "outputs": [
    {
     "name": "stdout",
     "output_type": "stream",
     "text": [
      "Duracao  :  0\n",
      "protocolo  :  0\n",
      "PortaOrigem  :  0\n",
      "Direcao  :  0\n",
      "PortaDestino  :  0\n",
      "Estado  :  0\n",
      "sTos  :  0\n",
      "dTos  :  0\n",
      "TotPkts  :  0\n",
      "TotBytes  :  0\n",
      "SrcBytes  :  0\n",
      "Rotulo  :  0\n"
     ]
    }
   ],
   "source": [
    "for coluna in df.columns:\n",
    "    print(coluna,\" : \", df.filter(df[coluna].isNull()).count())"
   ]
  },
  {
   "cell_type": "markdown",
   "id": "cbf6d72c",
   "metadata": {},
   "source": [
    "**Mostrar o dataset**"
   ]
  },
  {
   "cell_type": "code",
   "execution_count": 84,
   "id": "7031ea04",
   "metadata": {},
   "outputs": [
    {
     "name": "stdout",
     "output_type": "stream",
     "text": [
      "+----------+---------+-----------+-------+------------+-------+----+----+-------+---------+--------+----------+\n",
      "|   Duracao|protocolo|PortaOrigem|Direcao|PortaDestino| Estado|sTos|dTos|TotPkts| TotBytes|SrcBytes|    Rotulo|\n",
      "+----------+---------+-----------+-------+------------+-------+----+----+-------+---------+--------+----------+\n",
      "| 83.062141|      tcp|       1078|    <?>|          80|RPA_FPA|   0|   0|  43065| 40974671| 1033777|Background|\n",
      "|497.720459|      tcp|      13121|    <?>|       62860| RPA_PA|   0|   0| 326962|132430976| 7076046|Background|\n",
      "|971.288147|      tcp|         80|    <?>|        3088|   PA_A|   0|   0|   7912|  7356876| 7153650|Background|\n",
      "|899.996399|      tcp|      54518|    <?>|         993|  PA_PA|   0|   0|     48|     5728|    3008|Background|\n",
      "| 38.753445|      tcp|      19083|     ?>|        2185|   RPA_|   0|   0|      7|      456|     456|Background|\n",
      "+----------+---------+-----------+-------+------------+-------+----+----+-------+---------+--------+----------+\n",
      "only showing top 5 rows\n",
      "\n"
     ]
    }
   ],
   "source": [
    "df.show(5)"
   ]
  },
  {
   "cell_type": "markdown",
   "id": "deb63148",
   "metadata": {},
   "source": [
    "**Tratando dados ruidosos** "
   ]
  },
  {
   "cell_type": "code",
   "execution_count": null,
   "id": "bebdb54a",
   "metadata": {},
   "outputs": [],
   "source": []
  },
  {
   "cell_type": "code",
   "execution_count": null,
   "id": "7a544aa7",
   "metadata": {},
   "outputs": [],
   "source": []
  },
  {
   "cell_type": "code",
   "execution_count": null,
   "id": "eb18b82c",
   "metadata": {},
   "outputs": [],
   "source": []
  },
  {
   "cell_type": "markdown",
   "id": "c2e08873",
   "metadata": {},
   "source": [
    "**Modando nome da coluna porta origem e destino para que as consultas da tempView funcionem\n",
    "    (o spark.sql nao reconhece nomes de colunas unidas por \" - \", ele considera como se fosse dois nomes)**"
   ]
  },
  {
   "cell_type": "code",
   "execution_count": null,
   "id": "b0f62c44",
   "metadata": {},
   "outputs": [],
   "source": []
  },
  {
   "cell_type": "code",
   "execution_count": 85,
   "id": "afc0efcf",
   "metadata": {},
   "outputs": [
    {
     "name": "stdout",
     "output_type": "stream",
     "text": [
      "+----------+---------+-----------+-------+------------+-------+----+----+-------+---------+--------+----------+\n",
      "|   Duracao|protocolo|PortaOrigem|Direcao|PortaDestino| Estado|sTos|dTos|TotPkts| TotBytes|SrcBytes|    Rotulo|\n",
      "+----------+---------+-----------+-------+------------+-------+----+----+-------+---------+--------+----------+\n",
      "| 83.062141|      tcp|       1078|    <?>|          80|RPA_FPA|   0|   0|  43065| 40974671| 1033777|Background|\n",
      "|497.720459|      tcp|      13121|    <?>|       62860| RPA_PA|   0|   0| 326962|132430976| 7076046|Background|\n",
      "|971.288147|      tcp|         80|    <?>|        3088|   PA_A|   0|   0|   7912|  7356876| 7153650|Background|\n",
      "|899.996399|      tcp|      54518|    <?>|         993|  PA_PA|   0|   0|     48|     5728|    3008|Background|\n",
      "| 38.753445|      tcp|      19083|     ?>|        2185|   RPA_|   0|   0|      7|      456|     456|Background|\n",
      "+----------+---------+-----------+-------+------------+-------+----+----+-------+---------+--------+----------+\n",
      "only showing top 5 rows\n",
      "\n"
     ]
    }
   ],
   "source": [
    "df.show(5)"
   ]
  },
  {
   "cell_type": "code",
   "execution_count": 86,
   "id": "9b5a65ef",
   "metadata": {},
   "outputs": [
    {
     "name": "stdout",
     "output_type": "stream",
     "text": [
      "+--------+\n",
      "|count(1)|\n",
      "+--------+\n",
      "|  107251|\n",
      "+--------+\n",
      "\n"
     ]
    }
   ],
   "source": [
    "df.createOrReplaceTempView(\"tabela\")\n",
    "spark.sql(\"SELECT count(*) from tabela\").show()"
   ]
  },
  {
   "cell_type": "code",
   "execution_count": 87,
   "id": "6dc8734d",
   "metadata": {},
   "outputs": [
    {
     "name": "stdout",
     "output_type": "stream",
     "text": [
      "+----------+\n",
      "|   Duracao|\n",
      "+----------+\n",
      "|252.235641|\n",
      "| 965.60437|\n",
      "|948.458923|\n",
      "|   0.38899|\n",
      "|950.313721|\n",
      "|932.998535|\n",
      "| 29.553505|\n",
      "|    7.5E-4|\n",
      "|   3.71E-4|\n",
      "| 33.070011|\n",
      "| 21.092537|\n",
      "|   7.18E-4|\n",
      "|  0.154451|\n",
      "|  1.244861|\n",
      "|   8.77E-4|\n",
      "|  0.999027|\n",
      "|  0.218348|\n",
      "|  0.187115|\n",
      "|862.619385|\n",
      "|  0.028589|\n",
      "+----------+\n",
      "only showing top 20 rows\n",
      "\n"
     ]
    }
   ],
   "source": [
    "spark.sql(\"SELECT DISTINCT Duracao from tabela\").show()"
   ]
  },
  {
   "cell_type": "code",
   "execution_count": 88,
   "id": "51854970",
   "metadata": {},
   "outputs": [
    {
     "data": {
      "text/plain": [
       "40804"
      ]
     },
     "execution_count": 88,
     "metadata": {},
     "output_type": "execute_result"
    }
   ],
   "source": [
    "spark.sql(\"SELECT DISTINCT PortaOrigem from tabela\").count()"
   ]
  },
  {
   "cell_type": "code",
   "execution_count": 89,
   "id": "d6b4c460",
   "metadata": {},
   "outputs": [
    {
     "name": "stdout",
     "output_type": "stream",
     "text": [
      "+-----------+\n",
      "|PortaOrigem|\n",
      "+-----------+\n",
      "|      65408|\n",
      "|      15790|\n",
      "|      43688|\n",
      "|       4818|\n",
      "|      43527|\n",
      "|      52697|\n",
      "|       4935|\n",
      "|      49331|\n",
      "|      40386|\n",
      "|      51415|\n",
      "|       2122|\n",
      "|      30970|\n",
      "|      57693|\n",
      "|      17420|\n",
      "|      53634|\n",
      "|      49308|\n",
      "|       1088|\n",
      "|      50353|\n",
      "|      12799|\n",
      "|      56110|\n",
      "+-----------+\n",
      "only showing top 20 rows\n",
      "\n"
     ]
    }
   ],
   "source": [
    "spark.sql(\"SELECT DISTINCT PortaOrigem from tabela\").show()"
   ]
  },
  {
   "cell_type": "code",
   "execution_count": 90,
   "id": "5e6fed4b",
   "metadata": {},
   "outputs": [
    {
     "name": "stdout",
     "output_type": "stream",
     "text": [
      "+-------+\n",
      "|Direcao|\n",
      "+-------+\n",
      "|who    |\n",
      "|?>     |\n",
      "|<->    |\n",
      "|<?>    |\n",
      "|<-     |\n",
      "|->     |\n",
      "+-------+\n",
      "\n"
     ]
    }
   ],
   "source": [
    "spark.sql(\"SELECT DISTINCT Direcao from tabela\").show(truncate=False)"
   ]
  },
  {
   "cell_type": "markdown",
   "id": "39c29494",
   "metadata": {},
   "source": [
    "**O Uso da funcao do replace do spark foi necessaria para tratar dados ruidosos na coluna Direcao**\n",
    "Tratandosse de dados bidirecional, a coluna deveria ter direcao para duplo sentido, sentido esquedo e direito"
   ]
  },
  {
   "cell_type": "code",
   "execution_count": 91,
   "id": "75286c14",
   "metadata": {},
   "outputs": [],
   "source": [
    "# Funcao replace do sql\n",
    "\n",
    "df=spark.sql(\"SELECT Duracao, protocolo, PortaOrigem, REPLACE(Direcao, '?', '-') as Direcao, PortaDestino, Estado\\\n",
    "            ,sTos, dTos, TotPkts, TotBytes, SrcBytes, Rotulo  from tabela\")"
   ]
  },
  {
   "cell_type": "code",
   "execution_count": 92,
   "id": "afd9006b",
   "metadata": {},
   "outputs": [
    {
     "name": "stdout",
     "output_type": "stream",
     "text": [
      "+-------+\n",
      "|Direcao|\n",
      "+-------+\n",
      "|who    |\n",
      "|<->    |\n",
      "|<-     |\n",
      "|->     |\n",
      "+-------+\n",
      "\n"
     ]
    }
   ],
   "source": [
    "df.createOrReplaceTempView(\"tabela\")\n",
    "spark.sql(\"SELECT DISTINCT Direcao from tabela\").show(truncate=False)"
   ]
  },
  {
   "cell_type": "code",
   "execution_count": 93,
   "id": "696f4c02",
   "metadata": {},
   "outputs": [
    {
     "name": "stdout",
     "output_type": "stream",
     "text": [
      "+-------+\n",
      "|Direcao|\n",
      "+-------+\n",
      "|<->    |\n",
      "|<-     |\n",
      "|->     |\n",
      "+-------+\n",
      "\n"
     ]
    }
   ],
   "source": [
    "df=df.withColumn('Direcao', regexp_replace('Direcao','who','<->'))\n",
    "df.createOrReplaceTempView(\"tabela\")\n",
    "spark.sql(\"SELECT DISTINCT Direcao from tabela\").show(truncate=False)"
   ]
  },
  {
   "cell_type": "markdown",
   "id": "dcf8150a",
   "metadata": {},
   "source": [
    "**Elimanar linhas repetidas - a funcao distintct() e a dropDuplicates() (quando nao passado nenhum parametro funcianam da mesma maneira, eliminanam linhas repetidas e retornam um novo datafreme)**"
   ]
  },
  {
   "cell_type": "code",
   "execution_count": 94,
   "id": "9d04caa7",
   "metadata": {},
   "outputs": [
    {
     "data": {
      "text/plain": [
       "107251"
      ]
     },
     "execution_count": 94,
     "metadata": {},
     "output_type": "execute_result"
    }
   ],
   "source": [
    "#Total de linhas antes da eliminacao de linhas duplicadas \n",
    "df.count()"
   ]
  },
  {
   "cell_type": "code",
   "execution_count": 95,
   "id": "c1ad3cb0",
   "metadata": {},
   "outputs": [
    {
     "name": "stdout",
     "output_type": "stream",
     "text": [
      "+----------+\n",
      "|sum(count)|\n",
      "+----------+\n",
      "|     10675|\n",
      "+----------+\n",
      "\n"
     ]
    }
   ],
   "source": [
    "# Contar linhas duplicadas \n",
    "\n",
    "df.groupBy(df.columns).count().where(col('count') > 1).select(sum('count')).show()"
   ]
  },
  {
   "cell_type": "code",
   "execution_count": 96,
   "id": "e981a420",
   "metadata": {},
   "outputs": [
    {
     "data": {
      "text/plain": [
       "97178"
      ]
     },
     "execution_count": 96,
     "metadata": {},
     "output_type": "execute_result"
    }
   ],
   "source": [
    "# Total de linhas depois de eliminacao de duplicatas\n",
    "df.dropDuplicates().count()"
   ]
  },
  {
   "cell_type": "code",
   "execution_count": 97,
   "id": "10c73cc7",
   "metadata": {},
   "outputs": [],
   "source": [
    "df=df.dropDuplicates()"
   ]
  },
  {
   "cell_type": "code",
   "execution_count": 98,
   "id": "efa81657",
   "metadata": {},
   "outputs": [
    {
     "data": {
      "text/plain": [
       "97178"
      ]
     },
     "execution_count": 98,
     "metadata": {},
     "output_type": "execute_result"
    }
   ],
   "source": [
    "df.count()"
   ]
  },
  {
   "cell_type": "code",
   "execution_count": null,
   "id": "2e967056",
   "metadata": {},
   "outputs": [],
   "source": []
  },
  {
   "cell_type": "code",
   "execution_count": null,
   "id": "07c4cff8",
   "metadata": {},
   "outputs": [],
   "source": []
  },
  {
   "cell_type": "code",
   "execution_count": null,
   "id": "e27f913c",
   "metadata": {},
   "outputs": [],
   "source": []
  },
  {
   "cell_type": "code",
   "execution_count": null,
   "id": "1757d6cd",
   "metadata": {},
   "outputs": [],
   "source": [
    "\n"
   ]
  },
  {
   "cell_type": "code",
   "execution_count": null,
   "id": "ae0ee18d",
   "metadata": {},
   "outputs": [],
   "source": []
  }
 ],
 "metadata": {
  "kernelspec": {
   "display_name": "Python 3 (ipykernel)",
   "language": "python",
   "name": "python3"
  },
  "language_info": {
   "codemirror_mode": {
    "name": "ipython",
    "version": 3
   },
   "file_extension": ".py",
   "mimetype": "text/x-python",
   "name": "python",
   "nbconvert_exporter": "python",
   "pygments_lexer": "ipython3",
   "version": "3.9.13"
  }
 },
 "nbformat": 4,
 "nbformat_minor": 5
}
